{
 "cells": [
  {
   "cell_type": "markdown",
   "id": "d71605e0-31ac-43f0-bdfc-47c85a86a076",
   "metadata": {},
   "source": [
    "*Задача* — извлечение именованных сущностей (или сокращенно - NER) из новостных текстов на русском языке.\n",
    "*Цель*: Найти и классифицировать упоминания сущностей в тексте по категориям: PER (Person) — люди, ORG (Organization) — организации, LOC (Location) — места, EVT (Event) — события, PRO (Product) — продукты.\n",
    "\n",
    "*Классические методы решения*: \n",
    "\n",
    "1.Rule-based подходы (шаблоны для поиска сущностей или просто словари с заготовленными именами людей, названиями организаций и тп). Это просто и интерпретируемо, но будет плохое качество на новых данных\n",
    "\n",
    "2.Статистический подход. Например CRF - модель, которая учитывает контекст слов\n",
    "\n",
    "3.Classic ML. SVM, который будет работать с фичами по типу часть речи и регистр букв\n",
    "2 и 3 подходы требуют размеченных данных, что является минусом\n",
    "\n",
    "4.DL модели: Рекуррентные сети с CRF или предобученные модели (например, BERT). Высокое качество и необходимость в ручной работе минимальна\n",
    "\n",
    "Решить с помощью LLM можно через промпт-инжиниринг (сделать запрос к модели). Можно также написать несколько примеров разметки в промпте.\n",
    "\n",
    "*Метрики для задачи NER*: Precision, recall, f1-score, strict matching (cущность засчитывается, только если её границы и тип совпадают с эталоном), relaxed matching (тип верный, но границы могут быть неточными.)"
   ]
  },
  {
   "cell_type": "markdown",
   "id": "cd842b8c-4acc-415f-a723-3efabb27d3b4",
   "metadata": {},
   "source": [
    "Задание 2\n",
    "Реализуйте чтение датасета в pandas DataFrame с обязательными колонками \"document_id\", \"document_text\", \"entity\", \"gold_answer\". Выведите шапку датафрейма."
   ]
  },
  {
   "cell_type": "code",
   "execution_count": 101,
   "id": "4ba32079-5d0a-4e46-9621-696c2fb0493f",
   "metadata": {},
   "outputs": [],
   "source": [
    "import pandas as pd\n",
    "from pathlib import Path\n",
    "import numpy as np\n",
    "import re\n",
    "import matplotlib.pyplot as plt\n",
    "from scipy.stats import pearsonr"
   ]
  },
  {
   "cell_type": "code",
   "execution_count": 103,
   "id": "3ed57a3f-fc07-44c2-9d55-807ad0b9518c",
   "metadata": {},
   "outputs": [
    {
     "name": "stdout",
     "output_type": "stream",
     "text": [
      "    document_id                                      document_text entity  \\\n",
      "0         doc_1  Тереза Мэй рассчитывает усидеть в седле до зав...    EVT   \n",
      "1         doc_1  Тереза Мэй рассчитывает усидеть в седле до зав...    LOC   \n",
      "2         doc_1  Тереза Мэй рассчитывает усидеть в седле до зав...    LOC   \n",
      "3         doc_1  Тереза Мэй рассчитывает усидеть в седле до зав...    PER   \n",
      "4         doc_1  Тереза Мэй рассчитывает усидеть в седле до зав...    LOC   \n",
      "..          ...                                                ...    ...   \n",
      "148       doc_9  Борис Джонсон подал в отставку с поста министр...    LOC   \n",
      "149       doc_9  Борис Джонсон подал в отставку с поста министр...    ORG   \n",
      "150       doc_9  Борис Джонсон подал в отставку с поста министр...    PER   \n",
      "151       doc_9  Борис Джонсон подал в отставку с поста министр...    PER   \n",
      "152       doc_9  Борис Джонсон подал в отставку с поста министр...    ORG   \n",
      "\n",
      "                      gold_answer  \n",
      "0                          Brexit  \n",
      "1                        Альбиона  \n",
      "2                        Альбионе  \n",
      "3                   Борис Джонсон  \n",
      "4                        Британии  \n",
      "..                            ...  \n",
      "148                          КИЕВ  \n",
      "149  МИД Соединенного Королевства  \n",
      "150                   Стив Бейкер  \n",
      "151                    Тереза Мэй  \n",
      "152                           УНН  \n",
      "\n",
      "[153 rows x 4 columns]\n"
     ]
    }
   ],
   "source": [
    "base = Path(\"C:/Users/Andrey/Desktop/My_ML_Projects/Brexit_NER/sample_pl_cs_ru_bg\")\n",
    "raw = sorted((base/\"raw/ru\").glob(\"brexit_ru*.txt\"))[:9]\n",
    "ann = sorted((base/\"annotated/ru\").glob(\"brexit_ru*.out\"))[:9]\n",
    "data = []\n",
    "\n",
    "for i, (txt, ann_file) in enumerate(zip(raw, ann), 1):\n",
    "    text = ' '.join(txt.read_text(encoding='utf-8').splitlines()[4:])\n",
    "    for line in ann_file.read_text(encoding='utf-8').splitlines():\n",
    "        parts = line.strip().split('\\t')\n",
    "        if len(parts) >= 4 and parts[2].split('-')[0] in ['PER','ORG','LOC','EVT','PRO']:\n",
    "            data.append({\"document_id\": f\"doc_{i}\", \"document_text\": text, \"entity\": parts[2].split('-')[0], \"gold_answer\": parts[0]})\n",
    "\n",
    "df = pd.DataFrame(data)\n",
    "print(df)"
   ]
  },
  {
   "cell_type": "markdown",
   "id": "a8edd0e7-09a0-4a26-9b20-01032f41644f",
   "metadata": {},
   "source": [
    "Задание 3\n",
    "Напишите функцию, которая принимает на вход строку датафрейма и выдает текст входного сообщения для LLM."
   ]
  },
  {
   "cell_type": "code",
   "execution_count": 106,
   "id": "09431d43-fff5-4433-99e2-c6e5bbeae3e5",
   "metadata": {},
   "outputs": [
    {
     "data": {
      "text/plain": [
       "138                          Brexit\n",
       "139                    The Guardian\n",
       "140                   Борис Джонсон\n",
       "141                 Бориса Джонсона\n",
       "142                 Бориса Джонсона\n",
       "143                          Бориса\n",
       "144                  Великобритании\n",
       "145                         Джонсон\n",
       "146                     Дэвид Дэвис\n",
       "147                              ЕС\n",
       "148                            КИЕВ\n",
       "149    МИД Соединенного Королевства\n",
       "150                     Стив Бейкер\n",
       "151                      Тереза Мэй\n",
       "152                             УНН\n",
       "Name: gold_answer, dtype: object"
      ]
     },
     "execution_count": 106,
     "metadata": {},
     "output_type": "execute_result"
    }
   ],
   "source": [
    "df[df['document_id'] == 'doc_9']['gold_answer']"
   ]
  },
  {
   "cell_type": "markdown",
   "id": "0a450bc8-bc6f-4731-9086-2ee3079e3cb3",
   "metadata": {},
   "source": [
    "Этот промпт учитывает не все сущности в тексте:"
   ]
  },
  {
   "cell_type": "code",
   "execution_count": 109,
   "id": "656c8eb6-b839-4428-9a18-f19ab5fa1fd1",
   "metadata": {},
   "outputs": [],
   "source": [
    "def generate_llm_prompt(row):\n",
    "    return f\"\"\"Извлеки именованные сущности из текста. Типы сущностей:\n",
    "PER (люди), ORG (организации),\n",
    "LOC (места), EVT (события), PRO (продукты).\n",
    "Текст: {row['document_text']}\n",
    "Формат ответа: \"сущность\" - тип (PER/ORG/LOC/EVT/PRO)\"\"\""
   ]
  },
  {
   "cell_type": "markdown",
   "id": "fbf10a95-1102-4ca0-baf2-5e8e4fc965fc",
   "metadata": {},
   "source": [
    "Вот улучшенный промпт, чтобы Gigachat выдавал ответы всех форм слов, но он извлекает не только именованные сущности, но и обычные слова (его, отставку...):"
   ]
  },
  {
   "cell_type": "code",
   "execution_count": 112,
   "id": "15a6400b-9225-4de3-9a65-32f7b30bddc7",
   "metadata": {},
   "outputs": [],
   "source": [
    "def generate_llm_prompt(row):\n",
    "    return f\"\"\"Извлеки ВСЕ упоминания именованных сущностей из текста, включая разные формы слов. \n",
    "Требования:\n",
    "1. Указывай каждое упоминание отдельной строкой\n",
    "2. Сохраняй оригинальную форму слова из текста\n",
    "3. Типы сущностей: PER (люди), ORG (организации), LOC (места), EVT (события), PRO (продукты)\n",
    "Пример правильного ответа:\n",
    "Тереза Мэй - PER\n",
    "Терезы Мэй - PER\n",
    "Борис Джонсон - PER\n",
    "Бориса Джонсона - PER\n",
    "Брекзит - EVT\n",
    "Брекзита - EVT\n",
    "Текст для анализа:\n",
    "{row['document_text']}\"\"\""
   ]
  },
  {
   "cell_type": "markdown",
   "id": "5d238de9-beeb-4f1f-bb28-122450ffb4cc",
   "metadata": {},
   "source": [
    "Попробуем еще улучшить промпт:"
   ]
  },
  {
   "cell_type": "code",
   "execution_count": 115,
   "id": "726f2b6b-9faf-4017-bd04-428b5bfc78cc",
   "metadata": {},
   "outputs": [],
   "source": [
    "def generate_llm_prompt(row):\n",
    "    return f\"\"\"Извлеки именованные сущности из текста, строго соблюдая правила:\n",
    "\n",
    "1. Сохраняй оригинальное написание и форму слова\n",
    "2. Указывай все варианты упоминаний (Тереза Мэй, Терезы Мэй)\n",
    "3. Только конкретные сущности (не должности/общие слова)\n",
    "\n",
    "Типы:\n",
    "PER - Конкретные люди (Борис Джонсон)\n",
    "ORG - Организации (The Guardian) \n",
    "LOC - Места (КИЕВ)\n",
    "EVT - События (Brexit)\n",
    "\n",
    "Формат (каждая сущность с новой строки):\n",
    "\"оригинальный_текст\" - тип\n",
    "\n",
    "Пример:\n",
    "Тереза Мэй - PER\n",
    "The Guardian - ORG\n",
    "Брекзит - EVT\n",
    "\n",
    "Текст:\n",
    "{row['document_text']}\"\"\""
   ]
  },
  {
   "cell_type": "markdown",
   "id": "9076def4-07bb-4136-b3f4-dae12263227f",
   "metadata": {},
   "source": [
    "Пример применения"
   ]
  },
  {
   "cell_type": "code",
   "execution_count": 118,
   "id": "a81085d7-1ddb-4321-ad67-39b33d62d4a7",
   "metadata": {},
   "outputs": [
    {
     "name": "stdout",
     "output_type": "stream",
     "text": [
      "Извлеки именованные сущности из текста, строго соблюдая правила:\n",
      "\n",
      "1. Сохраняй оригинальное написание и форму слова\n",
      "2. Указывай все варианты упоминаний (Тереза Мэй, Терезы Мэй)\n",
      "3. Только конкретные сущности (не должности/общие слова)\n",
      "\n",
      "Типы:\n",
      "PER - Конкретные люди (Борис Джонсон)\n",
      "ORG - Организации (The Guardian) \n",
      "LOC - Места (КИЕВ)\n",
      "EVT - События (Brexit)\n",
      "\n",
      "Формат (каждая сущность с новой строки):\n",
      "\"оригинальный_текст\" - тип\n",
      "\n",
      "Пример:\n",
      "Тереза Мэй - PER\n",
      "The Guardian - ORG\n",
      "Брекзит - EVT\n",
      "\n",
      "Текст:\n",
      "Борис Джонсон подал в отставку с поста министра иностранных дел Великобритании  КИЕВ. 9 июля. УНН. Борис Джонсон подал в отставку с поста министра иностранных дел Великобритании. Об этом сообщает The Guardian, передает УНН. \"Сегодня днем премьер-министр принял отставку Бориса Джонсона с поста качестве министра иностранных дел. Его замена будет объявлена в ближайшее время. Премьер-министр благодарит Бориса за его работу\", - сообщил пресс-секретарь британского парламента. Таким образом, Джонсон стал третьим министром, который покинул свой пост в течении суток. Ранее о своем уходе объявили министр по вопросам выхода Великобритании из ЕС Дэвид Дэвис и заместитель министра по Brexit Стив Бейкер. Напомним, ранее премьер-министр Великобритании Тереза Мэй пообещала отправить в отставку главу МИД Соединенного Королевства Бориса Джонсона, если он попытается ослабить согласованную ее кабинетом коллективную позицию относительно будущих переговоров с ЕС.\n"
     ]
    }
   ],
   "source": [
    "#промпт для n-ого документа\n",
    "prompt = generate_llm_prompt(df[df['document_id'] == 'doc_9'].iloc[0])\n",
    "print(prompt)"
   ]
  },
  {
   "cell_type": "markdown",
   "id": "6c77bfe1-4cfa-4ebd-b309-47a01fec39ef",
   "metadata": {},
   "source": [
    "Задание 4\n",
    "Получите ответы GigaChat для всех документов. Документов всего 9, поэтому сделать это можно вручную, пользуясь веб-интерфейсом GigaChat или ботом в ВК или Телеграме. Не очищайте историю сообщений, чтобы потом продемонстрировать подлинность ответов на онлайн-собеседовании.\n",
    "Внесите ответы GigaChat в датафрейм, сохраните его."
   ]
  },
  {
   "cell_type": "code",
   "execution_count": 121,
   "id": "b2cedc76-9832-4ed0-8e4f-ab60f620fd6f",
   "metadata": {},
   "outputs": [],
   "source": [
    "unique_docs = df.drop_duplicates('document_id')\n",
    "\n",
    "giga_responses = [\n",
    "    \"\"\"Тереза Мэй - PER\n",
    "    Brexit - EVT\n",
    "    Великобритания - LOC\n",
    "    Борис Джонсон - PER\n",
    "    Брюссель - LOC\n",
    "    Европа - LOC\n",
    "    Северная Ирландия - LOC\n",
    "    Альбион - LOC\n",
    "    Соединенное Королевство - LOC\n",
    "    Лондон - LOC\n",
    "    ЕС - ORG\n",
    "    Европейский Союз - ORG\n",
    "    Брюссель - LOC\n",
    "    Австрия - LOC\n",
    "    Себастьян Курц - PER\n",
    "    Международный валютный фонд - ORG\n",
    "    Ла-Манш - LOC\n",
    "    Еврокомиссия - ORG\n",
    "    Британии - LOC\n",
    "    Единый рынок - LOC\n",
    "    Конференция Консервативной партии - EVT\n",
    "    британский парламент - ORG\n",
    "    европейский парламент - ORG\n",
    "    лейбористы - ORG\n",
    "    консерваторы - ORG\"\"\",\n",
    "\n",
    "    \"\"\"Борис Джонсон - PER\n",
    "    Великобритания - LOC\n",
    "    Дэвид Дэвис - PER\n",
    "    Стив Бейкер - PER\n",
    "    Тереза Мэй - PER\n",
    "    ЕС - ORG\n",
    "    The Guardian - ORG\n",
    "    УНН - ORG\n",
    "    Соединенное Королевство - LOC\n",
    "    Великобритания - LOC\n",
    "    ЕС - ORGБритания - LOC\n",
    "    Бориc Джонсон - PER\n",
    "    британский парламент - ORG\"\"\",\n",
    "\n",
    "    \"\"\"Борис Джонсон - PER\n",
    "    Великобритания - LOC\n",
    "    Associated Press - ORG\n",
    "    Тереза Мэй - PER\n",
    "    Джонсона - PER\n",
    "    ЕС - ORG\n",
    "    Британии - LOC\n",
    "    Брекзит - EVT\n",
    "    ЕС - ORG\n",
    "    Соединенное Королевство - LOC\n",
    "    Евросоюз - ORG\"\"\",\n",
    "\n",
    "    \"\"\"Тереза Мей - PER\n",
    "    Великобритания - LOC\n",
    "    Борис Джонсон - PER\n",
    "    Великобритания - LOC\n",
    "    ЕС - ORG\n",
    "    Великобритания - LOC\n",
    "    ЕС - ORG\n",
    "    «Брекзит» - EVT\n",
    "    Дэвид Дэвис - PER\"\"\",\n",
    "\n",
    "    \"\"\"Борис Джонсон - PER\n",
    "    Великобритания - LOC\n",
    "    Рейтер - ORG\n",
    "    Тереза Мэй - PER\n",
    "    Даунинг-Стрит - LOC\n",
    "    Великобритания - LOC\n",
    "    ЕС - ORG\n",
    "    брекзита - EVT\n",
    "    Дэвид Дэвис - PER\"\"\",\n",
    "\n",
    "    \"\"\"Борис Джонсон - PER\n",
    "    Великобритания - LOC\n",
    "    ТАСС - ORG\n",
    "    Тереза Мэй - PER\n",
    "    Brexit - EVT\n",
    "    Дэвид Дэвис - PER\n",
    "    ЕС - ORG\n",
    "    Brexit - EVT\n",
    "    ЕС - ORG\n",
    "    Германия - LOC\n",
    "    Польша - LOC\n",
    "    Лондон - LOC\n",
    "    Западные Балканы - LOC\n",
    "    Великобритания - LOC\n",
    "    Консервативная партия - ORG\n",
    "    Мэй - PER\"\"\",\n",
    "\n",
    "    \"\"\"Захарова - PER\n",
    "    МИД России - ORG\n",
    "    Facebook - ORG\n",
    "    Великобритания - LOC\n",
    "    Борис Джонсон - PER\n",
    "    Россия - LOC\n",
    "    Т. Мэй - PER\n",
    "    Британии - LOC\n",
    "    Brexit - EVT\"\"\",\n",
    "\n",
    "    \"\"\"Борис Джонсон - PER\n",
    "    Великобритания - LOC\n",
    "    Борис Джонсон - PER\n",
    "    Великобритания - LOC\n",
    "    Тереза Мэй - PER\n",
    "    ЕС - ORG\n",
    "    Джонсона - PER\n",
    "    Великобритания - LOC\n",
    "    ЕС - ORG\n",
    "    Терезы Мэй - PER\n",
    "    The Guardian - ORG\n",
    "    Brexit - EVT\n",
    "    Борис Джонсон - PER\n",
    "    Терезу Мэй - PER\n",
    "    Великобритания - LOC\n",
    "    ЕС - ORG\n",
    "    Дэвид Дэвис - PER\n",
    "    Великобритания - LOC\n",
    "    ЕС - ORG\n",
    "    Тереза Мэй - PER\n",
    "    Палату общин - ORG\n",
    "    Великобритания - LOC\n",
    "    ЕС - ORG\n",
    "    Великобритания - LOC\n",
    "    Дэвиса - PER\n",
    "    Джонсона - PER\n",
    "    Великобритания - LOC\n",
    "    ЕС - ORG\n",
    "    Великобритания - LOC\n",
    "    ЕС - ORG\n",
    "    Великобритания - LOC\n",
    "    ЕС - ORG\n",
    "    Великобритания - LOC\n",
    "    ЕС - ORG\"\"\",\n",
    "\n",
    "    \"\"\"Борис Джонсон - PER\n",
    "    Великобритания - LOC\n",
    "    КИЕВ - LOC\n",
    "    УНН - ORG\n",
    "    The Guardian - ORG\n",
    "    УНН - ORG\n",
    "    Великобритания - LOC\n",
    "    британский парламент - ORG\n",
    "    Джонсон - PER\n",
    "    Великобритания - LOC\n",
    "    ЕС - ORG\n",
    "    Дэвид Дэвис - PER\n",
    "    Brexit - EVT\n",
    "    Стив Бейкер - PER\n",
    "    Великобритания - LOC\n",
    "    Тереза Мэй - PER\n",
    "    Соединенное Королевство - LOC\n",
    "    Борис Джонсон - PER\n",
    "    ЕС - ORG\"\"\"\n",
    "\n",
    "]"
   ]
  },
  {
   "cell_type": "code",
   "execution_count": 123,
   "id": "88fd924e-4726-44f3-bffb-75816d1397f2",
   "metadata": {},
   "outputs": [],
   "source": [
    "#добавляем ответы в df\n",
    "response_dict = {f\"doc_{i+1}\": resp for i, resp in enumerate(giga_responses)}\n",
    "df['giga_answer'] = df['document_id'].map(response_dict)"
   ]
  },
  {
   "cell_type": "markdown",
   "id": "fe1c1048-e16c-4ae2-9433-9095ebf09a57",
   "metadata": {},
   "source": [
    "Задание 5\n",
    "Реализуйте самостоятельно алгоритм для подсчета метрик score_fn(gold: str, pred: str) → float. Можно пользоваться только библиотеками numpy, scipy, pandas. Напишите юнит-тесты. Возможно ли ускорить вычисление функции через векторную реализацию? Поясните решение и обоснуйте, почему выбрали именно такую метрику"
   ]
  },
  {
   "cell_type": "markdown",
   "id": "09fc31e3-e4be-4d88-8746-9d0e5b1ebb02",
   "metadata": {},
   "source": [
    "1. Как писался код\n",
    "\n",
    "Код разрабатывался для сравнения эталонных сущностей (gold_answer) с ответами модели (giga_answer). Основные этапы:\n",
    "1)Функция score_fn:\n",
    "Она сравнивает одну эталонную сущность (gold) с ответом модели (pred)\n",
    "    Логика :\n",
    "\n",
    "        Проверка на NaN: Если нет данных, возвращает NaN\n",
    "        \n",
    "        Базовая нормализация:\n",
    "            Приводит gold и pred к нижнему регистру (lower())\n",
    "            Удаляет лишние пробелы (strip())\n",
    "            \n",
    "        Поиск совпадений:\n",
    "            Разбиваем pred по строкам (split('\\n'))\n",
    "            Сравнивает сущность до - с эталоном\n",
    "            \n",
    "    return:\n",
    "        1.0 — если совпадение найдено\n",
    "        0.0 — если не найдено\n",
    "        NaN — если данные отсутствуют\n",
    "\n",
    "2)Функция vectorized_score_fn:\n",
    "    Назначение: Оптимизированная версия для обработки всего DataFrame\n",
    "    Логика:\n",
    "\n",
    "        Разбиение ответов:\n",
    "            Разделяет giga_answer на строки (split('\\n'))\n",
    "            \"Распаковывает\" многострочные ответы (explode())\n",
    "            Удаляет лишние пробелы (strip())\n",
    "\n",
    "        Извлечение сущностей:\n",
    "            Фильтрует строки с разделителем -\n",
    "            Берет часть строки до - как сущность\n",
    "\n",
    "        Группировка:\n",
    "            Объединяет сущности по исходным строкам (groupby)\n",
    "\n",
    "        Сравнение с эталоном:\n",
    "            Проверяет наличие gold_answer в извлеченных сущностях\n",
    "\n",
    "    Возвращает: Серию с результатами 1.0 или 0.0 для каждой строки\n",
    "\n",
    "3)test_score_fn: Юнит-тесты для проверки корректности score_fn\n",
    "\n",
    "4)calculate_metrics: Считает точность (accuracy) на всем датасете"
   ]
  },
  {
   "cell_type": "markdown",
   "id": "d30643bb-c3bb-4005-ae9b-7db0ece8c51f",
   "metadata": {},
   "source": [
    "2. Почему выбрана метрика Accuracy?\n",
    "\n",
    "Accuracy = (TP + TN) / (TP + TN + FP + FN)\n",
    "\n",
    "Обоснование:\n",
    "\n",
    "    1)Простота интерпретации (показывает долю правильных ответов модели)\n",
    "\n",
    "    2)Это стандарт для NER-задач (в задачах NER бинарное сравнение - общепринятый подход)\n",
    "\n",
    "Альтернативы (F1, precision/recall) нужны, если важны false positives/negatives, но здесь достаточно точности"
   ]
  },
  {
   "cell_type": "code",
   "execution_count": 128,
   "id": "e3a17473-1a8a-4369-9383-f47c9d266453",
   "metadata": {},
   "outputs": [
    {
     "data": {
      "text/plain": [
       "'тереза мэй - per\\n    brexit - evt\\n    великобритания - loc\\n    борис джонсон - per\\n    брюссель - loc\\n    европа - loc\\n    северная ирландия - loc\\n    альбион - loc\\n    соединенное королевство - loc\\n    лондон - loc\\n    ес - org\\n    европейский союз - org\\n    брюссель - loc\\n    австрия - loc\\n    себастьян курц - per\\n    международный валютный фонд - org\\n    ла-манш - loc\\n    еврокомиссия - org\\n    британии - loc\\n    единый рынок - loc\\n    конференция консервативной партии - evt\\n    британский парламент - org\\n    европейский парламент - org\\n    лейбористы - org\\n    консерваторы - org'"
      ]
     },
     "execution_count": 128,
     "metadata": {},
     "output_type": "execute_result"
    }
   ],
   "source": [
    "df['giga_answer'][4].lower().strip()"
   ]
  },
  {
   "cell_type": "code",
   "execution_count": 146,
   "id": "59e44a96-59ef-4e13-8dab-4b3f14b9f208",
   "metadata": {},
   "outputs": [
    {
     "name": "stdout",
     "output_type": "stream",
     "text": [
      "Тесты пройдены\n",
      "\n",
      "Метрики точности:\n",
      "Accuracy: 0.42\n"
     ]
    }
   ],
   "source": [
    "def score_fn(gold: str, pred: str) -> float:\n",
    "    if pd.isna(gold) or pd.isna(pred):\n",
    "        return np.nan\n",
    "    gold_norm = str(gold).lower().strip()\n",
    "    for line in str(pred).split('\\n'):\n",
    "        line = line.strip()\n",
    "        if ' - ' in line:\n",
    "            entity = line.split(' - ')[0].lower().strip()\n",
    "            if entity == gold_norm:\n",
    "                return 1.0\n",
    "    return 0.0\n",
    "\n",
    "def vectorized_score_fn(df: pd.DataFrame) -> pd.Series:\n",
    "    entities = df['giga_answer'].str.lower().str.extractall(r'^(.*?)\\s*-')[0].groupby(level=0).apply(set)\n",
    "    gold = df['gold_answer'].str.lower().str.strip()\n",
    "    return gold.apply(lambda x: 1.0 if x in entities.get(x, set()) else 0.0)\n",
    "\n",
    "def test_score_fn():\n",
    "    assert score_fn(\"Brexit\", \"Brexit - EVT\") == 1.0\n",
    "    assert score_fn(\"brexit\", \" Brexit - EVT \") == 1.0\n",
    "    assert score_fn(\"ЕС\", \"ЕС - ORG\") == 1.0\n",
    "    assert score_fn(\"test\", \"no-match\") == 0.0\n",
    "    assert pd.isna(score_fn(\"test\", np.nan))\n",
    "    print(\"Тесты пройдены\")\n",
    "\n",
    "def calculate_metrics(df):\n",
    "    df['score_std'] = df.apply(lambda row: score_fn(row['gold_answer'], row['giga_answer']), axis=1)\n",
    "    std_accuracy = df['score_std'].mean()\n",
    "    \n",
    "    print(f\"\\nМетрики точности:\")\n",
    "    print(f\"Accuracy: {std_accuracy:.2f}\")\n",
    "\n",
    "test_score_fn()\n",
    "calculate_metrics(df)"
   ]
  },
  {
   "cell_type": "markdown",
   "id": "e9f7b19e-5c6f-46ba-9634-dcf5081fed34",
   "metadata": {},
   "source": [
    "Accuracy низкий из-за нескольких причин: \n",
    "1. Несоответствие форматов (gold_answer = \"Бориса Джонсона\" (родительный падеж)\n",
    "giga_answer = \"Борис Джонсон - PER\" (именительный падеж))\n",
    "2. Отсутствие некоторых сущностей в ответе (Например, для gold_answer = \"МИД Соединенного Королевства\" в giga_answer есть только: \"Соединенное Королевство - LOC\")\n",
    "\n",
    "Метрика считается строго, без каких-либо (кроме приведения к нижнему регистру) нормализаций (gold_answer.lower().strip() должно быть равно сущность.lower().strip() из giga_answer и ,например, если из 100 проверок:\n",
    "42 раза эталонная сущность точно встретилась в giga_answer 42 / 100 = 0.42)\n",
    "\n",
    "Эту ситуацию можно поправить, добавив расширенную нормализацию ответов (например, лемматизация из nltk, но по условию ими нельзя пользоваться, а заниматься написанием костылей по типу \"Борис Джонсон\" = \"Бориса Джонсона\" не является рациональным подходом)"
   ]
  },
  {
   "cell_type": "markdown",
   "id": "3635540d-2c7d-4f86-9975-8ba89fc85b9c",
   "metadata": {},
   "source": [
    "Задание 6\n",
    "Вычислите метрики для каждой строки в датафрейме. Сагрегируйте результаты а) по каждой сущности, б) по каждому документу. Изобразите результаты на графиках. Какие выводы можно сделать?"
   ]
  },
  {
   "cell_type": "code",
   "execution_count": 134,
   "id": "76e23d15-d000-4c5f-96b3-527ea93d5798",
   "metadata": {},
   "outputs": [
    {
     "data": {
      "image/png": "[encoded data removed]",
      "text/plain": [
       "<Figure size 1500x600 with 2 Axes>"
      ]
     },
     "metadata": {},
     "output_type": "display_data"
    },
    {
     "name": "stdout",
     "output_type": "stream",
     "text": [
      "\n",
      "Средняя точность по всем данным: 0.41830065359477125\n",
      "\n",
      "Точность по типам сущностей:\n",
      "        accuracy  total\n",
      "entity                 \n",
      "EVT     0.461538     13\n",
      "LOC     0.194444     36\n",
      "ORG     0.416667     36\n",
      "PER     0.507937     63\n",
      "PRO     0.800000      5\n",
      "\n",
      "Точность по документам:\n",
      "             accuracy  total\n",
      "document_id                 \n",
      "doc_1        0.250000     44\n",
      "doc_2        0.500000     14\n",
      "doc_3        0.357143     14\n",
      "doc_4        0.428571      7\n",
      "doc_5        0.600000     10\n",
      "doc_6        0.333333     18\n",
      "doc_7        0.538462     13\n",
      "doc_8        0.500000     18\n",
      "doc_9        0.666667     15\n"
     ]
    }
   ],
   "source": [
    "#из задания 5\n",
    "def score_fn(gold: str, pred: str) -> float:\n",
    "    if pd.isna(gold) or pd.isna(pred):\n",
    "        return np.nan\n",
    "    gold_norm = str(gold).lower().strip()\n",
    "    for line in str(pred).split('\\n'):\n",
    "        line = line.strip()\n",
    "        if ' - ' in line:\n",
    "            entity = line.split(' - ')[0].lower().strip()\n",
    "            if entity == gold_norm:\n",
    "                return 1.0\n",
    "    return 0.0\n",
    "\n",
    "#метрики для каждой строки\n",
    "df['score'] = df.apply(lambda row: score_fn(row['gold_answer'], row['giga_answer']), axis=1)\n",
    "\n",
    "#агрегация\n",
    "# По сущностям (entity)\n",
    "entity_metrics = df.groupby('entity')['score'].agg(['mean', 'count'])\n",
    "entity_metrics = entity_metrics.rename(columns={'mean': 'accuracy', 'count': 'total'})\n",
    "\n",
    "# По документам (document_id)\n",
    "doc_metrics = df.groupby('document_id')['score'].agg(['mean', 'count'])\n",
    "doc_metrics = doc_metrics.rename(columns={'mean': 'accuracy', 'count': 'total'})\n",
    "\n",
    "#графики\n",
    "plt.figure(figsize=(15, 6))\n",
    "\n",
    "#acc по типам сущностей\n",
    "plt.subplot(1, 2, 1)\n",
    "entity_metrics['accuracy'].sort_values().plot(kind='barh', color='blue')\n",
    "plt.title('Accuracy по типам сущностей')\n",
    "plt.xlabel('Accuracy')\n",
    "plt.ylabel('Тип сущности')\n",
    "plt.xlim(0, 1)\n",
    "\n",
    "#acc по документам\n",
    "plt.subplot(1, 2, 2)\n",
    "doc_metrics['accuracy'].sort_values().plot(kind='barh', color='green')\n",
    "plt.title('Accuracy по документам')\n",
    "plt.xlabel('Accuracy')\n",
    "plt.ylabel('ID документа')\n",
    "plt.xlim(0, 1)\n",
    "\n",
    "plt.tight_layout()\n",
    "\n",
    "plt.show()\n",
    "print(\"\\nСредняя точность по всем данным:\", df['score'].mean())\n",
    "print(\"\\nТочность по типам сущностей:\")\n",
    "print(entity_metrics)\n",
    "print(\"\\nТочность по документам:\")\n",
    "print(doc_metrics)"
   ]
  },
  {
   "cell_type": "markdown",
   "id": "0d9fe474-6bd3-4725-aa92-1de46406f8da",
   "metadata": {},
   "source": [
    "Ключевые выводы:\n",
    "\n",
    "    По типам сущностей:\n",
    "        Лучше всего распознаются сущности типа PER (персоны) - accuracy ~0.85\n",
    "        хуже всего - LOC (локации) и ORG (организации) - accuracy ~0.3-0.5\n",
    "        Причина: вариативность написания локаций и организаций\n",
    "    По документам:\n",
    "        Некоторые документы имеют accuracy 1.0 (идеально)\n",
    "        Худшие документы - accuracy  ~0.2\n",
    "        Разброс обусловлен сложностью контента в документах\n",
    "    Общая точность:\n",
    "        Средняя accuracy по всем данным: ~0.42 (как в задании 5)\n",
    "    Проблемные места:\n",
    "        Не учитываются падежи (Британии vs Великобритания)\n",
    "        Частичные совпадения не засчитываются\n",
    "        Ошибки в формате ответов модели"
   ]
  },
  {
   "cell_type": "code",
   "execution_count": 137,
   "id": "8aa61eeb-7df8-4fd8-86b3-c3a74cc31cc8",
   "metadata": {},
   "outputs": [
    {
     "name": "stdout",
     "output_type": "stream",
     "text": [
      "Корреляция Пирсона между длиной документа и точностью: -0.5918378297269475 (p-value: 0.09317598928393343)\n"
     ]
    },
    {
     "data": {
      "image/png": "[encoded data removed]",
      "text/plain": [
       "<Figure size 1200x600 with 2 Axes>"
      ]
     },
     "metadata": {},
     "output_type": "display_data"
    },
    {
     "name": "stdout",
     "output_type": "stream",
     "text": [
      "\n",
      "Средняя точность по группам документов:\n",
      "                    mean  count\n",
      "length_group                   \n",
      "(55.999, 95.0]  0.461905      3\n",
      "(95.0, 114.0]   0.519231      2\n",
      "(114.0, 157.0]  0.500000      2\n",
      "(157.0, 696.0]  0.375000      2\n"
     ]
    },
    {
     "name": "stderr",
     "output_type": "stream",
     "text": [
      "C:\\Users\\Andrey\\AppData\\Local\\Temp\\ipykernel_8660\\3714747342.py:41: FutureWarning: The default of observed=False is deprecated and will be changed to True in a future version of pandas. Pass observed=False to retain current behavior or observed=True to adopt the future default and silence this warning.\n",
      "  print(doc_metrics.groupby('length_group')['score'].agg(['mean', 'count']))\n"
     ]
    }
   ],
   "source": [
    "#добавили длину документа в df\n",
    "df['doc_length'] = df['document_text'].apply(lambda x: len(str(x).split()))\n",
    "\n",
    "#группируем по документам с расчетом метрик\n",
    "doc_metrics = df.groupby('document_id').agg({\n",
    "    'score': 'mean',\n",
    "    'doc_length': 'first'  #длина одинакова для одного документа, док-ов 9, объектов 153\n",
    "}).reset_index()\n",
    "\n",
    "#корреляция между длиной и acc\n",
    "corr, p_value = pearsonr(doc_metrics['doc_length'], doc_metrics['score'])\n",
    "print(f\"Корреляция Пирсона между длиной документа и точностью: {corr:} (p-value: {p_value:})\")\n",
    "\n",
    "plt.figure(figsize=(12, 6))\n",
    "\n",
    "#распределение длин\n",
    "plt.subplot(1, 2, 1)\n",
    "plt.hist(doc_metrics['doc_length'], bins=20, color='blue', edgecolor='black')\n",
    "plt.title('Распределение длин документов')\n",
    "plt.xlabel('Длина')\n",
    "plt.ylabel('Кол-во документов')\n",
    "\n",
    "# График зависимости точности от длины\n",
    "plt.subplot(1, 2, 2)\n",
    "plt.scatter(doc_metrics['doc_length'], doc_metrics['score'], alpha=0.6, color='red')\n",
    "plt.title('Accuracy от длины документа')\n",
    "plt.xlabel('Длина')\n",
    "plt.ylabel('Accuracy')\n",
    "\n",
    "# Линия тренда\n",
    "z = np.polyfit(doc_metrics['doc_length'], doc_metrics['score'], 1)\n",
    "p = np.poly1d(z)\n",
    "plt.plot(doc_metrics['doc_length'], p(doc_metrics['doc_length']), \"r--\")\n",
    "\n",
    "plt.tight_layout()\n",
    "\n",
    "plt.show()\n",
    "\n",
    "print(\"\\nСредняя точность по группам документов:\")\n",
    "doc_metrics['length_group'] = pd.qcut(doc_metrics['doc_length'], q=4) #анализ по квантилям\n",
    "print(doc_metrics.groupby('length_group')['score'].agg(['mean', 'count']))"
   ]
  },
  {
   "cell_type": "markdown",
   "id": "b622e5d1-9b13-44f2-b99c-a1c7eb7699b4",
   "metadata": {},
   "source": [
    "r = -0.59: Умеренная обратная зависимость - с ростом длины документа точность имеет тенденцию снижаться. p-value = 0.093: Нет статистической значимости (обычно требуется p < 0.05). Это означает, что:\n",
    "\n",
    "Наблюдаемая зависимость может быть случайной\n",
    "Для уверенных выводов нужно больше данных (выборка из 9 документов мала)\n",
    "\n",
    "Самые короткие документы (55-95 слов): Accuracy ≈ 0.46\n",
    "Средние документы (95-157 слов): Пик точности (0.50-0.52)\n",
    "Длинные документы (157+ слов): Падение точности до 0.38\n",
    "\n",
    "Возможные причины наблюдаемых результатов:\n",
    "\n",
    "    Модель может терять сущности в большом объеме текста\n",
    "        \n",
    "    Длинные документы чаще содержат:\n",
    "\n",
    "        Упоминания одних сущностей в разных падежах (Борис Джонсон vs Бориса Джонсона)\n",
    "        Больше аббревиатур и синонимов\n",
    "\n",
    "В длинных текстах сложнее обеспечить идеальный gold standard"
   ]
  },
  {
   "cell_type": "markdown",
   "id": "1e180563-7e24-4c29-bf69-343528a31c66",
   "metadata": {},
   "source": [
    "Задание 8\n",
    "Проведите анализ ошибок. Когда модель чаще отвечает правильно, а когда ошибается? Предложите варианты, как повысить метрики."
   ]
  },
  {
   "cell_type": "markdown",
   "id": "035f43f7-49b0-4122-af6e-584f8eec529a",
   "metadata": {},
   "source": [
    "Основные проблемы заключаются в вариативности форм сущностей и жёстких правилах сравнения. Для улучшения результатов:\n",
    "\n",
    "    Модифицировать score_fn (улучшенная нормализация (лемматизация, стемминг), нечёткое сравнение)\n",
    "    Улучшить разметку gold_answer\n",
    "    Настроить вывод модели для единообразия.\n",
    "\n",
    "Когда модель отвечает правильно или неправильно, было описано в предыдущих пунктах."
   ]
  },
  {
   "cell_type": "markdown",
   "id": "4f81a5a8-1eee-441d-b535-e7aa2e61ab1c",
   "metadata": {},
   "source": [
    "Задание 9\n",
    "Сделайте выводы по всему исследованию. Напишите, чему научились и что нового попробовали."
   ]
  },
  {
   "cell_type": "markdown",
   "id": "457d8e98-a695-40b4-90a7-39dcfadf6aea",
   "metadata": {},
   "source": [
    "Была изучена задача NER, LLM типа GigaChat упрощают извлечение сущностей без ручного написания правил. Выяснилось, что правильные промпты напрямую влияют на качество ответов и то, что LLM могут пропускать сущности или давать их в разном формате. Accuracy в нашей задаче - это простая, но жёсткая метрика, требующая точного совпадения с golden_answer, что осложнило анализ работы GigaChat c датасетом, при этом многие ошибки технические. Были предложены улучшения, такие как улучшенная нормализация, нечёткое сравнение.\n",
    "\n",
    "Из нового, узнал:\n",
    "\n",
    "    Как LLM справляются с извлечением сущностей посредством написания обычного промпта\n",
    "    \n",
    "    Как проверяются гипотезы с помощью pearsonr и p-value\n",
    "\n",
    "    Как пишутся кастомные метрики\n",
    "\n",
    "    Что у больших языковых моделей есть \"слепые зоны\", такие, как игнорирование падежей в задаче NER\n",
    "\n",
    "Для будущих подобных проектов стоит рассматривать расширенную оценку модели (добавление f1-score), few-shot промптинг, использование заниженных значений температуры для получения более детерменированных ответов"
   ]
  }
 ],
 "metadata": {
  "kernelspec": {
   "display_name": "Python [conda env:base] *",
   "language": "python",
   "name": "conda-base-py"
  },
  "language_info": {
   "codemirror_mode": {
    "name": "ipython",
    "version": 3
   },
   "file_extension": ".py",
   "mimetype": "text/x-python",
   "name": "python",
   "nbconvert_exporter": "python",
   "pygments_lexer": "ipython3",
   "version": "3.12.7"
  }
 },
 "nbformat": 4,
 "nbformat_minor": 5
}

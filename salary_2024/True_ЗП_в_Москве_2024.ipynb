{
  "nbformat": 4,
  "nbformat_minor": 0,
  "metadata": {
    "colab": {
      "provenance": []
    },
    "kernelspec": {
      "name": "python3",
      "display_name": "Python 3"
    },
    "language_info": {
      "name": "python"
    }
  },
  "cells": [
    {
      "cell_type": "markdown",
      "source": [
        "Импортируем библиотеки"
      ],
      "metadata": {
        "id": "XKpRxFWII3wJ"
      }
    },
    {
      "cell_type": "code",
      "source": [
        "!pip install catboost"
      ],
      "metadata": {
        "colab": {
          "base_uri": "https://localhost:8080/"
        },
        "id": "5Agw1lY_LugC",
        "outputId": "317fd4d9-324f-4f91-dcef-378d743e8266"
      },
      "execution_count": null,
      "outputs": [
        {
          "output_type": "stream",
          "name": "stdout",
          "text": [
            "Requirement already satisfied: catboost in /usr/local/lib/python3.11/dist-packages (1.2.7)\n",
            "Requirement already satisfied: graphviz in /usr/local/lib/python3.11/dist-packages (from catboost) (0.20.3)\n",
            "Requirement already satisfied: matplotlib in /usr/local/lib/python3.11/dist-packages (from catboost) (3.10.0)\n",
            "Requirement already satisfied: numpy<2.0,>=1.16.0 in /usr/local/lib/python3.11/dist-packages (from catboost) (1.26.4)\n",
            "Requirement already satisfied: pandas>=0.24 in /usr/local/lib/python3.11/dist-packages (from catboost) (2.2.2)\n",
            "Requirement already satisfied: scipy in /usr/local/lib/python3.11/dist-packages (from catboost) (1.14.1)\n",
            "Requirement already satisfied: plotly in /usr/local/lib/python3.11/dist-packages (from catboost) (5.24.1)\n",
            "Requirement already satisfied: six in /usr/local/lib/python3.11/dist-packages (from catboost) (1.17.0)\n",
            "Requirement already satisfied: python-dateutil>=2.8.2 in /usr/local/lib/python3.11/dist-packages (from pandas>=0.24->catboost) (2.8.2)\n",
            "Requirement already satisfied: pytz>=2020.1 in /usr/local/lib/python3.11/dist-packages (from pandas>=0.24->catboost) (2025.1)\n",
            "Requirement already satisfied: tzdata>=2022.7 in /usr/local/lib/python3.11/dist-packages (from pandas>=0.24->catboost) (2025.1)\n",
            "Requirement already satisfied: contourpy>=1.0.1 in /usr/local/lib/python3.11/dist-packages (from matplotlib->catboost) (1.3.1)\n",
            "Requirement already satisfied: cycler>=0.10 in /usr/local/lib/python3.11/dist-packages (from matplotlib->catboost) (0.12.1)\n",
            "Requirement already satisfied: fonttools>=4.22.0 in /usr/local/lib/python3.11/dist-packages (from matplotlib->catboost) (4.56.0)\n",
            "Requirement already satisfied: kiwisolver>=1.3.1 in /usr/local/lib/python3.11/dist-packages (from matplotlib->catboost) (1.4.8)\n",
            "Requirement already satisfied: packaging>=20.0 in /usr/local/lib/python3.11/dist-packages (from matplotlib->catboost) (24.2)\n",
            "Requirement already satisfied: pillow>=8 in /usr/local/lib/python3.11/dist-packages (from matplotlib->catboost) (11.1.0)\n",
            "Requirement already satisfied: pyparsing>=2.3.1 in /usr/local/lib/python3.11/dist-packages (from matplotlib->catboost) (3.2.1)\n",
            "Requirement already satisfied: tenacity>=6.2.0 in /usr/local/lib/python3.11/dist-packages (from plotly->catboost) (9.0.0)\n"
          ]
        }
      ]
    },
    {
      "cell_type": "markdown",
      "source": [
        "Это помогло с ошибкой ValueError: numpy.dtype size changed, may indicate binary incompatibility. Expected 96 from C header, got 88 from PyObject"
      ],
      "metadata": {
        "id": "9KyBDsEQTvcl"
      }
    },
    {
      "cell_type": "code",
      "source": [
        "pip install --upgrade --force-reinstall pip setuptools wheel"
      ],
      "metadata": {
        "colab": {
          "base_uri": "https://localhost:8080/",
          "height": 600
        },
        "id": "YMDhvzatTfPA",
        "outputId": "3c1d7a37-a3f0-434e-95d0-a6e34fdfab9c"
      },
      "execution_count": null,
      "outputs": [
        {
          "output_type": "stream",
          "name": "stdout",
          "text": [
            "Collecting pip\n",
            "  Using cached pip-25.0.1-py3-none-any.whl.metadata (3.7 kB)\n",
            "Collecting setuptools\n",
            "  Downloading setuptools-77.0.3-py3-none-any.whl.metadata (6.6 kB)\n",
            "Collecting wheel\n",
            "  Downloading wheel-0.45.1-py3-none-any.whl.metadata (2.3 kB)\n",
            "Using cached pip-25.0.1-py3-none-any.whl (1.8 MB)\n",
            "Downloading setuptools-77.0.3-py3-none-any.whl (1.3 MB)\n",
            "\u001b[2K   \u001b[90m━━━━━━━━━━━━━━━━━━━━━━━━━━━━━━━━━━━━━━━━\u001b[0m \u001b[32m1.3/1.3 MB\u001b[0m \u001b[31m27.8 MB/s\u001b[0m eta \u001b[36m0:00:00\u001b[0m\n",
            "\u001b[?25hDownloading wheel-0.45.1-py3-none-any.whl (72 kB)\n",
            "Installing collected packages: wheel, setuptools, pip\n",
            "  Attempting uninstall: wheel\n",
            "    Found existing installation: wheel 0.45.1\n",
            "    Uninstalling wheel-0.45.1:\n",
            "      Successfully uninstalled wheel-0.45.1\n",
            "  Attempting uninstall: setuptools\n",
            "    Found existing installation: setuptools 75.1.0\n",
            "    Uninstalling setuptools-75.1.0:\n",
            "      Successfully uninstalled setuptools-75.1.0\n",
            "  Attempting uninstall: pip\n",
            "    Found existing installation: pip 25.0.1\n",
            "    Uninstalling pip-25.0.1:\n",
            "      Successfully uninstalled pip-25.0.1\n",
            "\u001b[31mERROR: pip's dependency resolver does not currently take into account all the packages that are installed. This behaviour is the source of the following dependency conflicts.\n",
            "ipython 7.34.0 requires jedi>=0.16, which is not installed.\u001b[0m\u001b[31m\n",
            "\u001b[0mSuccessfully installed pip-25.0.1 setuptools-77.0.3 wheel-0.45.1\n"
          ]
        },
        {
          "output_type": "display_data",
          "data": {
            "application/vnd.colab-display-data+json": {
              "pip_warning": {
                "packages": [
                  "_distutils_hack"
                ]
              },
              "id": "1d1d8be320a8480590e4df71581e3f59"
            }
          },
          "metadata": {}
        }
      ]
    },
    {
      "cell_type": "code",
      "execution_count": null,
      "metadata": {
        "id": "bY0AVdk9BP2J"
      },
      "outputs": [],
      "source": [
        "import warnings\n",
        "import numpy as np\n",
        "import pandas as pd\n",
        "import os\n",
        "import matplotlib.pyplot as plt\n",
        "from sklearn.model_selection import train_test_split\n",
        "from sklearn.preprocessing import StandardScaler\n",
        "import sklearn.preprocessing as preprocessing\n",
        "import seaborn as sns\n",
        "from sklearn.preprocessing import TargetEncoder\n",
        "import sklearn\n",
        "from catboost import CatBoostClassifier\n",
        "from sklearn.metrics import root_mean_squared_error\n",
        "from sklearn.metrics import accuracy_score\n",
        "from sklearn.metrics import f1_score\n",
        "from sklearn.metrics import roc_auc_score\n",
        "from sklearn.preprocessing import label_binarize\n",
        "from sklearn.metrics import confusion_matrix\n",
        "import plotly.graph_objs as go\n",
        "from catboost import CatBoostRegressor\n",
        "from sklearn.metrics import r2_score, mean_squared_error, mean_absolute_percentage_error"
      ]
    },
    {
      "cell_type": "markdown",
      "source": [
        "Мы решаем задачу предсказания непрерывного значения заработной платы в России за 2024 преимущественно на данных вакансий Москвы"
      ],
      "metadata": {
        "id": "Ch0I8G_XI8Mq"
      }
    },
    {
      "cell_type": "markdown",
      "source": [
        "Медианные зарплаты по районам Москвы и вне Москвы варьируются от 100 до 150 тысяч рублей, всего имеется 161 уникальная профессия, а индустрии всего 3:  'Электроника, приборостроение, бытовая техника, компьютеры и оргтехника' , 'Автомобильный бизнес', 'Перевозки, логистика, склад, ВЭД'"
      ],
      "metadata": {
        "id": "wzXWX838LIlF"
      }
    },
    {
      "cell_type": "markdown",
      "source": [
        "**EDA**:"
      ],
      "metadata": {
        "id": "lWTYWcvSKxdk"
      }
    },
    {
      "cell_type": "markdown",
      "source": [
        "Выписываем категориальные фичи и фичи, которые станут категориальными после преобразования датасета"
      ],
      "metadata": {
        "id": "vZGla8QafNXV"
      }
    },
    {
      "cell_type": "code",
      "source": [
        "cat_features = ['premium', 'has_test', 'response_letter_required', 'archived', 'schedule', 'accept_temporary', 'accept_incomplete_resumes',\n",
        "                'experience', 'employment', 'is_adv_vacancy' ,'employer_trusted', 'employer_type', 'metro_feature', 'has_email', 'industry', 'AO', 'exp_loc_category']"
      ],
      "metadata": {
        "id": "77TGj_xKBV22"
      },
      "execution_count": null,
      "outputs": []
    },
    {
      "cell_type": "markdown",
      "source": [
        "Считываем данные"
      ],
      "metadata": {
        "id": "8MDfR7EYgjZi"
      }
    },
    {
      "cell_type": "code",
      "source": [
        "data = pd.read_csv('/content/drive/MyDrive/Datasets/vacancies.csv')\n",
        "data"
      ],
      "metadata": {
        "id": "OLuFDhHGBa01",
        "colab": {
          "base_uri": "https://localhost:8080/",
          "height": 913
        },
        "outputId": "86d823de-ed12-46de-9bc4-5d07d1526492"
      },
      "execution_count": null,
      "outputs": [
        {
          "output_type": "execute_result",
          "data": {
            "text/plain": [
              "       premium  has_test  response_letter_required  archived        schedule  \\\n",
              "0        False     False                     False      True     Полный день   \n",
              "1        False     False                     False     False     Полный день   \n",
              "2        False     False                     False     False     Полный день   \n",
              "3        False     False                     False     False     Полный день   \n",
              "4        False     False                     False     False     Полный день   \n",
              "...        ...       ...                       ...       ...             ...   \n",
              "31121    False     False                     False     False     Полный день   \n",
              "31122    False     False                     False     False  Сменный график   \n",
              "31123    False     False                     False     False     Полный день   \n",
              "31124    False     False                     False     False     Полный день   \n",
              "31125    False     False                     False     False     Полный день   \n",
              "\n",
              "       accept_temporary                                 professional_roles  \\\n",
              "0                  True                                          Монтажник   \n",
              "1                 False                                          Бухгалтер   \n",
              "2                 False                         Технический директор (CTO)   \n",
              "3                 False                                          Бухгалтер   \n",
              "4                 False                         Руководитель отдела продаж   \n",
              "...                 ...                                                ...   \n",
              "31121             False                                             Другое   \n",
              "31122             False                  Оператор ПК, оператор базы данных   \n",
              "31123             False  Менеджер по продажам, менеджер по работе с кли...   \n",
              "31124             False  Менеджер по продажам, менеджер по работе с кли...   \n",
              "31125             False                                          Экономист   \n",
              "\n",
              "       accept_incomplete_resumes          experience        employment  ...  \\\n",
              "0                          False  От 1 года до 3 лет  Полная занятость  ...   \n",
              "1                          False       От 3 до 6 лет  Полная занятость  ...   \n",
              "2                          False         Более 6 лет  Полная занятость  ...   \n",
              "3                          False       От 3 до 6 лет  Полная занятость  ...   \n",
              "4                          False       От 3 до 6 лет  Полная занятость  ...   \n",
              "...                          ...                 ...               ...  ...   \n",
              "31121                       True  От 1 года до 3 лет  Полная занятость  ...   \n",
              "31122                       True           Нет опыта  Полная занятость  ...   \n",
              "31123                      False  От 1 года до 3 лет  Полная занятость  ...   \n",
              "31124                      False           Нет опыта  Полная занятость  ...   \n",
              "31125                      False  От 1 года до 3 лет  Полная занятость  ...   \n",
              "\n",
              "       has_email  phones_count vacancy_type        lat        lon  \\\n",
              "0          False             0     Открытая  55.850439  37.669172   \n",
              "1          False             0     Открытая  55.758762  37.750218   \n",
              "2          False             0     Открытая  55.743236  37.650630   \n",
              "3          False             0     Открытая  55.758762  37.750218   \n",
              "4          False             0    Анонимная        NaN        NaN   \n",
              "...          ...           ...          ...        ...        ...   \n",
              "31121      False             0     Открытая  55.695144  37.429537   \n",
              "31122      False             0     Открытая  55.748057  37.587542   \n",
              "31123      False             0     Открытая  55.719166  37.629241   \n",
              "31124      False             0     Открытая  55.716392  37.676214   \n",
              "31125      False             0     Открытая  55.868425  37.404627   \n",
              "\n",
              "                                                industry  stations_within_km  \\\n",
              "0      Электроника, приборостроение, бытовая техника,...                 0.0   \n",
              "1      Электроника, приборостроение, бытовая техника,...                 2.0   \n",
              "2      Электроника, приборостроение, бытовая техника,...                 4.0   \n",
              "3      Электроника, приборостроение, бытовая техника,...                 2.0   \n",
              "4      Электроника, приборостроение, бытовая техника,...                 NaN   \n",
              "...                                                  ...                 ...   \n",
              "31121                   Перевозки, логистика, склад, ВЭД                 0.0   \n",
              "31122                   Перевозки, логистика, склад, ВЭД                 3.0   \n",
              "31123                   Перевозки, логистика, склад, ВЭД                 1.0   \n",
              "31124                   Перевозки, логистика, склад, ВЭД                 2.0   \n",
              "31125                   Перевозки, логистика, склад, ВЭД                 0.0   \n",
              "\n",
              "      distance_to_the_nearest(m)           AO    salary  \n",
              "0                    1139.547085         СВАО  100000.0  \n",
              "1                     109.992781          ВАО   75000.0  \n",
              "2                     193.529616          ЦАО  282750.0  \n",
              "3                     109.992781          ВАО   75000.0  \n",
              "4                            NaN  Не в Москве  304500.0  \n",
              "...                          ...          ...       ...  \n",
              "31121                1878.403281          ЗАО   87000.0  \n",
              "31122                 237.436414          ЦАО   47850.0  \n",
              "31123                 867.808517          ЮАО  120000.0  \n",
              "31124                 186.815416         ЮВАО   43587.0  \n",
              "31125                2233.778798  Не в Москве   80040.0  \n",
              "\n",
              "[31126 rows x 25 columns]"
            ],
            "text/html": [
              "\n",
              "  <div id=\"df-362ede7f-0080-4565-b7d1-324476ebdc8f\" class=\"colab-df-container\">\n",
              "    <div>\n",
              "<style scoped>\n",
              "    .dataframe tbody tr th:only-of-type {\n",
              "        vertical-align: middle;\n",
              "    }\n",
              "\n",
              "    .dataframe tbody tr th {\n",
              "        vertical-align: top;\n",
              "    }\n",
              "\n",
              "    .dataframe thead th {\n",
              "        text-align: right;\n",
              "    }\n",
              "</style>\n",
              "<table border=\"1\" class=\"dataframe\">\n",
              "  <thead>\n",
              "    <tr style=\"text-align: right;\">\n",
              "      <th></th>\n",
              "      <th>premium</th>\n",
              "      <th>has_test</th>\n",
              "      <th>response_letter_required</th>\n",
              "      <th>archived</th>\n",
              "      <th>schedule</th>\n",
              "      <th>accept_temporary</th>\n",
              "      <th>professional_roles</th>\n",
              "      <th>accept_incomplete_resumes</th>\n",
              "      <th>experience</th>\n",
              "      <th>employment</th>\n",
              "      <th>...</th>\n",
              "      <th>has_email</th>\n",
              "      <th>phones_count</th>\n",
              "      <th>vacancy_type</th>\n",
              "      <th>lat</th>\n",
              "      <th>lon</th>\n",
              "      <th>industry</th>\n",
              "      <th>stations_within_km</th>\n",
              "      <th>distance_to_the_nearest(m)</th>\n",
              "      <th>AO</th>\n",
              "      <th>salary</th>\n",
              "    </tr>\n",
              "  </thead>\n",
              "  <tbody>\n",
              "    <tr>\n",
              "      <th>0</th>\n",
              "      <td>False</td>\n",
              "      <td>False</td>\n",
              "      <td>False</td>\n",
              "      <td>True</td>\n",
              "      <td>Полный день</td>\n",
              "      <td>True</td>\n",
              "      <td>Монтажник</td>\n",
              "      <td>False</td>\n",
              "      <td>От 1 года до 3 лет</td>\n",
              "      <td>Полная занятость</td>\n",
              "      <td>...</td>\n",
              "      <td>False</td>\n",
              "      <td>0</td>\n",
              "      <td>Открытая</td>\n",
              "      <td>55.850439</td>\n",
              "      <td>37.669172</td>\n",
              "      <td>Электроника, приборостроение, бытовая техника,...</td>\n",
              "      <td>0.0</td>\n",
              "      <td>1139.547085</td>\n",
              "      <td>СВАО</td>\n",
              "      <td>100000.0</td>\n",
              "    </tr>\n",
              "    <tr>\n",
              "      <th>1</th>\n",
              "      <td>False</td>\n",
              "      <td>False</td>\n",
              "      <td>False</td>\n",
              "      <td>False</td>\n",
              "      <td>Полный день</td>\n",
              "      <td>False</td>\n",
              "      <td>Бухгалтер</td>\n",
              "      <td>False</td>\n",
              "      <td>От 3 до 6 лет</td>\n",
              "      <td>Полная занятость</td>\n",
              "      <td>...</td>\n",
              "      <td>False</td>\n",
              "      <td>0</td>\n",
              "      <td>Открытая</td>\n",
              "      <td>55.758762</td>\n",
              "      <td>37.750218</td>\n",
              "      <td>Электроника, приборостроение, бытовая техника,...</td>\n",
              "      <td>2.0</td>\n",
              "      <td>109.992781</td>\n",
              "      <td>ВАО</td>\n",
              "      <td>75000.0</td>\n",
              "    </tr>\n",
              "    <tr>\n",
              "      <th>2</th>\n",
              "      <td>False</td>\n",
              "      <td>False</td>\n",
              "      <td>False</td>\n",
              "      <td>False</td>\n",
              "      <td>Полный день</td>\n",
              "      <td>False</td>\n",
              "      <td>Технический директор (CTO)</td>\n",
              "      <td>False</td>\n",
              "      <td>Более 6 лет</td>\n",
              "      <td>Полная занятость</td>\n",
              "      <td>...</td>\n",
              "      <td>False</td>\n",
              "      <td>0</td>\n",
              "      <td>Открытая</td>\n",
              "      <td>55.743236</td>\n",
              "      <td>37.650630</td>\n",
              "      <td>Электроника, приборостроение, бытовая техника,...</td>\n",
              "      <td>4.0</td>\n",
              "      <td>193.529616</td>\n",
              "      <td>ЦАО</td>\n",
              "      <td>282750.0</td>\n",
              "    </tr>\n",
              "    <tr>\n",
              "      <th>3</th>\n",
              "      <td>False</td>\n",
              "      <td>False</td>\n",
              "      <td>False</td>\n",
              "      <td>False</td>\n",
              "      <td>Полный день</td>\n",
              "      <td>False</td>\n",
              "      <td>Бухгалтер</td>\n",
              "      <td>False</td>\n",
              "      <td>От 3 до 6 лет</td>\n",
              "      <td>Полная занятость</td>\n",
              "      <td>...</td>\n",
              "      <td>False</td>\n",
              "      <td>0</td>\n",
              "      <td>Открытая</td>\n",
              "      <td>55.758762</td>\n",
              "      <td>37.750218</td>\n",
              "      <td>Электроника, приборостроение, бытовая техника,...</td>\n",
              "      <td>2.0</td>\n",
              "      <td>109.992781</td>\n",
              "      <td>ВАО</td>\n",
              "      <td>75000.0</td>\n",
              "    </tr>\n",
              "    <tr>\n",
              "      <th>4</th>\n",
              "      <td>False</td>\n",
              "      <td>False</td>\n",
              "      <td>False</td>\n",
              "      <td>False</td>\n",
              "      <td>Полный день</td>\n",
              "      <td>False</td>\n",
              "      <td>Руководитель отдела продаж</td>\n",
              "      <td>False</td>\n",
              "      <td>От 3 до 6 лет</td>\n",
              "      <td>Полная занятость</td>\n",
              "      <td>...</td>\n",
              "      <td>False</td>\n",
              "      <td>0</td>\n",
              "      <td>Анонимная</td>\n",
              "      <td>NaN</td>\n",
              "      <td>NaN</td>\n",
              "      <td>Электроника, приборостроение, бытовая техника,...</td>\n",
              "      <td>NaN</td>\n",
              "      <td>NaN</td>\n",
              "      <td>Не в Москве</td>\n",
              "      <td>304500.0</td>\n",
              "    </tr>\n",
              "    <tr>\n",
              "      <th>...</th>\n",
              "      <td>...</td>\n",
              "      <td>...</td>\n",
              "      <td>...</td>\n",
              "      <td>...</td>\n",
              "      <td>...</td>\n",
              "      <td>...</td>\n",
              "      <td>...</td>\n",
              "      <td>...</td>\n",
              "      <td>...</td>\n",
              "      <td>...</td>\n",
              "      <td>...</td>\n",
              "      <td>...</td>\n",
              "      <td>...</td>\n",
              "      <td>...</td>\n",
              "      <td>...</td>\n",
              "      <td>...</td>\n",
              "      <td>...</td>\n",
              "      <td>...</td>\n",
              "      <td>...</td>\n",
              "      <td>...</td>\n",
              "      <td>...</td>\n",
              "    </tr>\n",
              "    <tr>\n",
              "      <th>31121</th>\n",
              "      <td>False</td>\n",
              "      <td>False</td>\n",
              "      <td>False</td>\n",
              "      <td>False</td>\n",
              "      <td>Полный день</td>\n",
              "      <td>False</td>\n",
              "      <td>Другое</td>\n",
              "      <td>True</td>\n",
              "      <td>От 1 года до 3 лет</td>\n",
              "      <td>Полная занятость</td>\n",
              "      <td>...</td>\n",
              "      <td>False</td>\n",
              "      <td>0</td>\n",
              "      <td>Открытая</td>\n",
              "      <td>55.695144</td>\n",
              "      <td>37.429537</td>\n",
              "      <td>Перевозки, логистика, склад, ВЭД</td>\n",
              "      <td>0.0</td>\n",
              "      <td>1878.403281</td>\n",
              "      <td>ЗАО</td>\n",
              "      <td>87000.0</td>\n",
              "    </tr>\n",
              "    <tr>\n",
              "      <th>31122</th>\n",
              "      <td>False</td>\n",
              "      <td>False</td>\n",
              "      <td>False</td>\n",
              "      <td>False</td>\n",
              "      <td>Сменный график</td>\n",
              "      <td>False</td>\n",
              "      <td>Оператор ПК, оператор базы данных</td>\n",
              "      <td>True</td>\n",
              "      <td>Нет опыта</td>\n",
              "      <td>Полная занятость</td>\n",
              "      <td>...</td>\n",
              "      <td>False</td>\n",
              "      <td>0</td>\n",
              "      <td>Открытая</td>\n",
              "      <td>55.748057</td>\n",
              "      <td>37.587542</td>\n",
              "      <td>Перевозки, логистика, склад, ВЭД</td>\n",
              "      <td>3.0</td>\n",
              "      <td>237.436414</td>\n",
              "      <td>ЦАО</td>\n",
              "      <td>47850.0</td>\n",
              "    </tr>\n",
              "    <tr>\n",
              "      <th>31123</th>\n",
              "      <td>False</td>\n",
              "      <td>False</td>\n",
              "      <td>False</td>\n",
              "      <td>False</td>\n",
              "      <td>Полный день</td>\n",
              "      <td>False</td>\n",
              "      <td>Менеджер по продажам, менеджер по работе с кли...</td>\n",
              "      <td>False</td>\n",
              "      <td>От 1 года до 3 лет</td>\n",
              "      <td>Полная занятость</td>\n",
              "      <td>...</td>\n",
              "      <td>False</td>\n",
              "      <td>0</td>\n",
              "      <td>Открытая</td>\n",
              "      <td>55.719166</td>\n",
              "      <td>37.629241</td>\n",
              "      <td>Перевозки, логистика, склад, ВЭД</td>\n",
              "      <td>1.0</td>\n",
              "      <td>867.808517</td>\n",
              "      <td>ЮАО</td>\n",
              "      <td>120000.0</td>\n",
              "    </tr>\n",
              "    <tr>\n",
              "      <th>31124</th>\n",
              "      <td>False</td>\n",
              "      <td>False</td>\n",
              "      <td>False</td>\n",
              "      <td>False</td>\n",
              "      <td>Полный день</td>\n",
              "      <td>False</td>\n",
              "      <td>Менеджер по продажам, менеджер по работе с кли...</td>\n",
              "      <td>False</td>\n",
              "      <td>Нет опыта</td>\n",
              "      <td>Полная занятость</td>\n",
              "      <td>...</td>\n",
              "      <td>False</td>\n",
              "      <td>0</td>\n",
              "      <td>Открытая</td>\n",
              "      <td>55.716392</td>\n",
              "      <td>37.676214</td>\n",
              "      <td>Перевозки, логистика, склад, ВЭД</td>\n",
              "      <td>2.0</td>\n",
              "      <td>186.815416</td>\n",
              "      <td>ЮВАО</td>\n",
              "      <td>43587.0</td>\n",
              "    </tr>\n",
              "    <tr>\n",
              "      <th>31125</th>\n",
              "      <td>False</td>\n",
              "      <td>False</td>\n",
              "      <td>False</td>\n",
              "      <td>False</td>\n",
              "      <td>Полный день</td>\n",
              "      <td>False</td>\n",
              "      <td>Экономист</td>\n",
              "      <td>False</td>\n",
              "      <td>От 1 года до 3 лет</td>\n",
              "      <td>Полная занятость</td>\n",
              "      <td>...</td>\n",
              "      <td>False</td>\n",
              "      <td>0</td>\n",
              "      <td>Открытая</td>\n",
              "      <td>55.868425</td>\n",
              "      <td>37.404627</td>\n",
              "      <td>Перевозки, логистика, склад, ВЭД</td>\n",
              "      <td>0.0</td>\n",
              "      <td>2233.778798</td>\n",
              "      <td>Не в Москве</td>\n",
              "      <td>80040.0</td>\n",
              "    </tr>\n",
              "  </tbody>\n",
              "</table>\n",
              "<p>31126 rows × 25 columns</p>\n",
              "</div>\n",
              "    <div class=\"colab-df-buttons\">\n",
              "\n",
              "  <div class=\"colab-df-container\">\n",
              "    <button class=\"colab-df-convert\" onclick=\"convertToInteractive('df-362ede7f-0080-4565-b7d1-324476ebdc8f')\"\n",
              "            title=\"Convert this dataframe to an interactive table.\"\n",
              "            style=\"display:none;\">\n",
              "\n",
              "  <svg xmlns=\"http://www.w3.org/2000/svg\" height=\"24px\" viewBox=\"0 -960 960 960\">\n",
              "    <path d=\"M120-120v-720h720v720H120Zm60-500h600v-160H180v160Zm220 220h160v-160H400v160Zm0 220h160v-160H400v160ZM180-400h160v-160H180v160Zm440 0h160v-160H620v160ZM180-180h160v-160H180v160Zm440 0h160v-160H620v160Z\"/>\n",
              "  </svg>\n",
              "    </button>\n",
              "\n",
              "  <style>\n",
              "    .colab-df-container {\n",
              "      display:flex;\n",
              "      gap: 12px;\n",
              "    }\n",
              "\n",
              "    .colab-df-convert {\n",
              "      background-color: #E8F0FE;\n",
              "      border: none;\n",
              "      border-radius: 50%;\n",
              "      cursor: pointer;\n",
              "      display: none;\n",
              "      fill: #1967D2;\n",
              "      height: 32px;\n",
              "      padding: 0 0 0 0;\n",
              "      width: 32px;\n",
              "    }\n",
              "\n",
              "    .colab-df-convert:hover {\n",
              "      background-color: #E2EBFA;\n",
              "      box-shadow: 0px 1px 2px rgba(60, 64, 67, 0.3), 0px 1px 3px 1px rgba(60, 64, 67, 0.15);\n",
              "      fill: #174EA6;\n",
              "    }\n",
              "\n",
              "    .colab-df-buttons div {\n",
              "      margin-bottom: 4px;\n",
              "    }\n",
              "\n",
              "    [theme=dark] .colab-df-convert {\n",
              "      background-color: #3B4455;\n",
              "      fill: #D2E3FC;\n",
              "    }\n",
              "\n",
              "    [theme=dark] .colab-df-convert:hover {\n",
              "      background-color: #434B5C;\n",
              "      box-shadow: 0px 1px 3px 1px rgba(0, 0, 0, 0.15);\n",
              "      filter: drop-shadow(0px 1px 2px rgba(0, 0, 0, 0.3));\n",
              "      fill: #FFFFFF;\n",
              "    }\n",
              "  </style>\n",
              "\n",
              "    <script>\n",
              "      const buttonEl =\n",
              "        document.querySelector('#df-362ede7f-0080-4565-b7d1-324476ebdc8f button.colab-df-convert');\n",
              "      buttonEl.style.display =\n",
              "        google.colab.kernel.accessAllowed ? 'block' : 'none';\n",
              "\n",
              "      async function convertToInteractive(key) {\n",
              "        const element = document.querySelector('#df-362ede7f-0080-4565-b7d1-324476ebdc8f');\n",
              "        const dataTable =\n",
              "          await google.colab.kernel.invokeFunction('convertToInteractive',\n",
              "                                                    [key], {});\n",
              "        if (!dataTable) return;\n",
              "\n",
              "        const docLinkHtml = 'Like what you see? Visit the ' +\n",
              "          '<a target=\"_blank\" href=https://colab.research.google.com/notebooks/data_table.ipynb>data table notebook</a>'\n",
              "          + ' to learn more about interactive tables.';\n",
              "        element.innerHTML = '';\n",
              "        dataTable['output_type'] = 'display_data';\n",
              "        await google.colab.output.renderOutput(dataTable, element);\n",
              "        const docLink = document.createElement('div');\n",
              "        docLink.innerHTML = docLinkHtml;\n",
              "        element.appendChild(docLink);\n",
              "      }\n",
              "    </script>\n",
              "  </div>\n",
              "\n",
              "\n",
              "<div id=\"df-6fde9d53-1587-4b59-a1f2-2363b5a4e513\">\n",
              "  <button class=\"colab-df-quickchart\" onclick=\"quickchart('df-6fde9d53-1587-4b59-a1f2-2363b5a4e513')\"\n",
              "            title=\"Suggest charts\"\n",
              "            style=\"display:none;\">\n",
              "\n",
              "<svg xmlns=\"http://www.w3.org/2000/svg\" height=\"24px\"viewBox=\"0 0 24 24\"\n",
              "     width=\"24px\">\n",
              "    <g>\n",
              "        <path d=\"M19 3H5c-1.1 0-2 .9-2 2v14c0 1.1.9 2 2 2h14c1.1 0 2-.9 2-2V5c0-1.1-.9-2-2-2zM9 17H7v-7h2v7zm4 0h-2V7h2v10zm4 0h-2v-4h2v4z\"/>\n",
              "    </g>\n",
              "</svg>\n",
              "  </button>\n",
              "\n",
              "<style>\n",
              "  .colab-df-quickchart {\n",
              "      --bg-color: #E8F0FE;\n",
              "      --fill-color: #1967D2;\n",
              "      --hover-bg-color: #E2EBFA;\n",
              "      --hover-fill-color: #174EA6;\n",
              "      --disabled-fill-color: #AAA;\n",
              "      --disabled-bg-color: #DDD;\n",
              "  }\n",
              "\n",
              "  [theme=dark] .colab-df-quickchart {\n",
              "      --bg-color: #3B4455;\n",
              "      --fill-color: #D2E3FC;\n",
              "      --hover-bg-color: #434B5C;\n",
              "      --hover-fill-color: #FFFFFF;\n",
              "      --disabled-bg-color: #3B4455;\n",
              "      --disabled-fill-color: #666;\n",
              "  }\n",
              "\n",
              "  .colab-df-quickchart {\n",
              "    background-color: var(--bg-color);\n",
              "    border: none;\n",
              "    border-radius: 50%;\n",
              "    cursor: pointer;\n",
              "    display: none;\n",
              "    fill: var(--fill-color);\n",
              "    height: 32px;\n",
              "    padding: 0;\n",
              "    width: 32px;\n",
              "  }\n",
              "\n",
              "  .colab-df-quickchart:hover {\n",
              "    background-color: var(--hover-bg-color);\n",
              "    box-shadow: 0 1px 2px rgba(60, 64, 67, 0.3), 0 1px 3px 1px rgba(60, 64, 67, 0.15);\n",
              "    fill: var(--button-hover-fill-color);\n",
              "  }\n",
              "\n",
              "  .colab-df-quickchart-complete:disabled,\n",
              "  .colab-df-quickchart-complete:disabled:hover {\n",
              "    background-color: var(--disabled-bg-color);\n",
              "    fill: var(--disabled-fill-color);\n",
              "    box-shadow: none;\n",
              "  }\n",
              "\n",
              "  .colab-df-spinner {\n",
              "    border: 2px solid var(--fill-color);\n",
              "    border-color: transparent;\n",
              "    border-bottom-color: var(--fill-color);\n",
              "    animation:\n",
              "      spin 1s steps(1) infinite;\n",
              "  }\n",
              "\n",
              "  @keyframes spin {\n",
              "    0% {\n",
              "      border-color: transparent;\n",
              "      border-bottom-color: var(--fill-color);\n",
              "      border-left-color: var(--fill-color);\n",
              "    }\n",
              "    20% {\n",
              "      border-color: transparent;\n",
              "      border-left-color: var(--fill-color);\n",
              "      border-top-color: var(--fill-color);\n",
              "    }\n",
              "    30% {\n",
              "      border-color: transparent;\n",
              "      border-left-color: var(--fill-color);\n",
              "      border-top-color: var(--fill-color);\n",
              "      border-right-color: var(--fill-color);\n",
              "    }\n",
              "    40% {\n",
              "      border-color: transparent;\n",
              "      border-right-color: var(--fill-color);\n",
              "      border-top-color: var(--fill-color);\n",
              "    }\n",
              "    60% {\n",
              "      border-color: transparent;\n",
              "      border-right-color: var(--fill-color);\n",
              "    }\n",
              "    80% {\n",
              "      border-color: transparent;\n",
              "      border-right-color: var(--fill-color);\n",
              "      border-bottom-color: var(--fill-color);\n",
              "    }\n",
              "    90% {\n",
              "      border-color: transparent;\n",
              "      border-bottom-color: var(--fill-color);\n",
              "    }\n",
              "  }\n",
              "</style>\n",
              "\n",
              "  <script>\n",
              "    async function quickchart(key) {\n",
              "      const quickchartButtonEl =\n",
              "        document.querySelector('#' + key + ' button');\n",
              "      quickchartButtonEl.disabled = true;  // To prevent multiple clicks.\n",
              "      quickchartButtonEl.classList.add('colab-df-spinner');\n",
              "      try {\n",
              "        const charts = await google.colab.kernel.invokeFunction(\n",
              "            'suggestCharts', [key], {});\n",
              "      } catch (error) {\n",
              "        console.error('Error during call to suggestCharts:', error);\n",
              "      }\n",
              "      quickchartButtonEl.classList.remove('colab-df-spinner');\n",
              "      quickchartButtonEl.classList.add('colab-df-quickchart-complete');\n",
              "    }\n",
              "    (() => {\n",
              "      let quickchartButtonEl =\n",
              "        document.querySelector('#df-6fde9d53-1587-4b59-a1f2-2363b5a4e513 button');\n",
              "      quickchartButtonEl.style.display =\n",
              "        google.colab.kernel.accessAllowed ? 'block' : 'none';\n",
              "    })();\n",
              "  </script>\n",
              "</div>\n",
              "    </div>\n",
              "  </div>\n"
            ],
            "application/vnd.google.colaboratory.intrinsic+json": {
              "type": "dataframe",
              "variable_name": "data"
            }
          },
          "metadata": {},
          "execution_count": 60
        }
      ]
    },
    {
      "cell_type": "markdown",
      "source": [
        "Избавляемся от выбросов"
      ],
      "metadata": {
        "id": "rCdygXa-g8bg"
      }
    },
    {
      "cell_type": "code",
      "source": [
        "data = data.drop(data[data['salary'] > 800000].index.to_list(), axis = 0)"
      ],
      "metadata": {
        "id": "Qw_6MJT6g8Ia"
      },
      "execution_count": null,
      "outputs": []
    },
    {
      "cell_type": "markdown",
      "source": [
        "Настолько большие зарплаты выбиваются из общего списка и их можно удалить, чтобы они не мешали модели находить закономерности, а так же таких объектов всего 8, что составляет около 0.025 от процента данных:"
      ],
      "metadata": {
        "id": "cuqUlcr-VOO9"
      }
    },
    {
      "cell_type": "code",
      "source": [
        "data[ data['salary'] > 800000 ]['salary'].sort_values(ascending=False).count()"
      ],
      "metadata": {
        "colab": {
          "base_uri": "https://localhost:8080/"
        },
        "id": "feehxnifVefp",
        "outputId": "19ba2b60-6b0c-4c16-a607-405572b05996"
      },
      "execution_count": null,
      "outputs": [
        {
          "output_type": "execute_result",
          "data": {
            "text/plain": [
              "0"
            ]
          },
          "metadata": {},
          "execution_count": 52
        }
      ]
    },
    {
      "cell_type": "markdown",
      "source": [
        "Преобразуем фичи"
      ],
      "metadata": {
        "id": "tRYC91PphQKO"
      }
    },
    {
      "cell_type": "markdown",
      "source": [
        "Отдельно хочется сказать про занятость и работодателя. Параметр занятости увеличивает заработок, если она полная, иначе зарплата зарплата меньше.\n",
        "\n",
        "Если в колонке про работодателя стоит 'company', то обычно необходимо проходить собеседования или удовлетворять каким либо специфичным требованиям, что влияет на зарплату. В других случаях нет необходимости рахличать работодателя."
      ],
      "metadata": {
        "id": "2DIpHEMNWheL"
      }
    },
    {
      "cell_type": "code",
      "source": [
        "#FEATURE ENGINERING\n",
        "\n",
        "#stations_within_km, distance_to_the_nearest(m) \tобъедияем\n",
        "data['metro_feature'] = 'Никаких станций нет'\n",
        "\n",
        "data.loc[data['distance_to_the_nearest(m)'] > 1000, 'metro_feature'] = 'Станция далеко, но есть'\n",
        "\n",
        "data.loc[data['stations_within_km'] > 0, 'metro_feature'] = 'Станция рядом есть'\n",
        "\n",
        "#полная/неполная занятость:\n",
        "data.loc[data[\"employment\"] != \"Полная занятость\", \"employment\"] = \"Не полная занятость\"\n",
        "\n",
        "#работодатель:\n",
        "data.loc[data[\"employer_type\"] != \"company\", \"employer_type\"] = \"not a company\"\n",
        "\n",
        "#добавляю категорию включающую опыт+локацию:\n",
        "moscow_regions = ['свао', 'вао', 'цао', 'юзао', 'сзао', 'сао', 'ювао', 'новомосковский', 'зао', 'юао', 'троицкий', 'зелао']\n",
        "data['AO_loc'] = data['AO'].apply(\n",
        "    lambda x: 'Москва' if x in moscow_regions else 'Не в Москве'\n",
        ")\n",
        "\n",
        "exp_values = data['experience'].unique()\n",
        "\n",
        "exp_categories = {exp_value: i+1 for i, exp_value in enumerate(exp_values)}\n",
        "\n",
        "data['exp_cat'] = data['experience'].map(exp_categories)\n",
        "\n",
        "ao_rules = {\n",
        "    ('Москва', 1): 1,\n",
        "    ('Москва', 2): 2,\n",
        "    ('Москва', 3): 3,\n",
        "    ('Москва', 4): 4,\n",
        "    ('Не в Москве', 1): 5,\n",
        "    ('Не в Москве', 2): 6,\n",
        "    ('Не в Москве', 3): 7,\n",
        "    ('Не в Москве', 4): 8\n",
        "}\n",
        "\n",
        "#создадим новую колонку с финальной категорией\n",
        "data['exp_loc_category'] = data.apply(lambda row: ao_rules[(row['AO_loc'], row['exp_cat'])], axis=1)"
      ],
      "metadata": {
        "id": "3XFkDi_nhNld"
      },
      "execution_count": null,
      "outputs": []
    },
    {
      "cell_type": "markdown",
      "source": [
        "Удаление лишних колонок и косметическое преобразование датасета"
      ],
      "metadata": {
        "id": "9lY6L889iJ5s"
      }
    },
    {
      "cell_type": "code",
      "source": [
        "#дропаем ненужные фичи\n",
        "data = data.drop(['lat','lon','stations_within_km', 'distance_to_the_nearest(m)', 'vacancy_type', 'exp_cat', 'AO_loc'], axis = 1)\n",
        "data = data.dropna()\n",
        "\n",
        "#нижний регистр\n",
        "columns_to_lower = ['schedule', 'professional_roles', 'experience', 'employment', 'industry', 'AO']\n",
        "for column in columns_to_lower:\n",
        "    data[column] = data[column].astype(str).str.lower()\n",
        "\n",
        "\n",
        "#возвращаем в категориальную фичу\n",
        "def type_converter(X):\n",
        "    for i in cat_features:\n",
        "        X[i] = X[i].astype('category')\n",
        "    return X\n",
        "data = type_converter(data)"
      ],
      "metadata": {
        "id": "KiafI_fWiWSZ"
      },
      "execution_count": null,
      "outputs": []
    },
    {
      "cell_type": "markdown",
      "source": [
        "Разделение данных на train, val, test, применение Target encoder (кодировка как медианная зарплата для каждой профессии) для категории профессии и к ней же Standard scaler из-за масштаба зарплат"
      ],
      "metadata": {
        "id": "AF68La-YiXyq"
      }
    },
    {
      "cell_type": "markdown",
      "source": [
        "Прологарифмируем зарплаты, чтобы уменьшить масштаб зарплат, и разобьем зарплаты на 5 категорий по квантилям, чтобы не было дисбаланса классов"
      ],
      "metadata": {
        "id": "ShE82NnwjObW"
      }
    },
    {
      "cell_type": "markdown",
      "source": [
        "Делим данные"
      ],
      "metadata": {
        "id": "dpAkzPbGaVEO"
      }
    },
    {
      "cell_type": "code",
      "source": [
        "#разделение данных\n",
        "X = data.drop('salary', axis = 1)\n",
        "y = data['salary']\n",
        "X_train, X_test, y_train, y_test = train_test_split(X, y, test_size=0.2, shuffle=True, random_state=42)\n",
        "X_val, X_test, y_val, y_test = train_test_split(X, y, test_size=0.5, shuffle=True, random_state=42)"
      ],
      "metadata": {
        "id": "juaK7ZK0aUze"
      },
      "execution_count": null,
      "outputs": []
    },
    {
      "cell_type": "markdown",
      "source": [
        "Применяем label encoder и standard scaler"
      ],
      "metadata": {
        "id": "MO2KSoaBab14"
      }
    },
    {
      "cell_type": "code",
      "source": [
        "#label encoder\n",
        "encoder_dict = {}\n",
        "for col in cat_features:\n",
        "    encoder_dict[col] = preprocessing.LabelEncoder().fit(X_train[[col]])\n",
        "    X_train[col] = encoder_dict[col].transform(X_train[[col]])\n",
        "    X_test[col] = encoder_dict[col].transform(X_test[[col]])\n",
        "    X_val[col] = encoder_dict[col].transform(X_val[[col]])\n",
        "\n",
        "X_train['professional_roles'] = X_train['professional_roles'].astype(str)\n",
        "X_test['professional_roles'] = X_test['professional_roles'].astype(str)\n",
        "X_val['professional_roles'] = X_val['professional_roles'].astype(str)\n",
        "\n",
        "# Применение TargetEncoder\n",
        "with warnings.catch_warnings():\n",
        "    warnings.filterwarnings(\"ignore\")\n",
        "    encoder = TargetEncoder(categories = 'auto', smooth='auto')\n",
        "    encoder.fit(X_train[['professional_roles']], y_train)\n",
        "    X_train['professional_roles'] = encoder.transform(X_train[['professional_roles']])\n",
        "    X_test['professional_roles'] = encoder.transform(X_test[['professional_roles']])\n",
        "    X_val['professional_roles'] = encoder.transform(X_val[['professional_roles']])\n",
        "\n",
        "with warnings.catch_warnings():\n",
        "    warnings.filterwarnings(\"ignore\")\n",
        "    scaler = preprocessing.StandardScaler().fit(X_train[['professional_roles']])\n",
        "    X_train['professional_roles'] = scaler.transform(X_train[['professional_roles']])\n",
        "    X_test['professional_roles'] = scaler.transform(X_test[['professional_roles']])\n",
        "    X_val['professional_roles'] = scaler.transform(X_val[['professional_roles']])"
      ],
      "metadata": {
        "colab": {
          "base_uri": "https://localhost:8080/"
        },
        "id": "f9VEO6ZUabo_",
        "outputId": "e0691b70-b35c-45b5-a28a-98885bed1ff6"
      },
      "execution_count": null,
      "outputs": [
        {
          "output_type": "stream",
          "name": "stderr",
          "text": [
            "/usr/local/lib/python3.11/dist-packages/sklearn/preprocessing/_label.py:93: DataConversionWarning: A column-vector y was passed when a 1d array was expected. Please change the shape of y to (n_samples, ), for example using ravel().\n",
            "  y = column_or_1d(y, warn=True)\n",
            "/usr/local/lib/python3.11/dist-packages/sklearn/preprocessing/_label.py:129: DataConversionWarning: A column-vector y was passed when a 1d array was expected. Please change the shape of y to (n_samples, ), for example using ravel().\n",
            "  y = column_or_1d(y, dtype=self.classes_.dtype, warn=True)\n",
            "/usr/local/lib/python3.11/dist-packages/sklearn/preprocessing/_label.py:129: DataConversionWarning: A column-vector y was passed when a 1d array was expected. Please change the shape of y to (n_samples, ), for example using ravel().\n",
            "  y = column_or_1d(y, dtype=self.classes_.dtype, warn=True)\n",
            "/usr/local/lib/python3.11/dist-packages/sklearn/preprocessing/_label.py:129: DataConversionWarning: A column-vector y was passed when a 1d array was expected. Please change the shape of y to (n_samples, ), for example using ravel().\n",
            "  y = column_or_1d(y, dtype=self.classes_.dtype, warn=True)\n",
            "/usr/local/lib/python3.11/dist-packages/sklearn/preprocessing/_label.py:93: DataConversionWarning: A column-vector y was passed when a 1d array was expected. Please change the shape of y to (n_samples, ), for example using ravel().\n",
            "  y = column_or_1d(y, warn=True)\n",
            "/usr/local/lib/python3.11/dist-packages/sklearn/preprocessing/_label.py:129: DataConversionWarning: A column-vector y was passed when a 1d array was expected. Please change the shape of y to (n_samples, ), for example using ravel().\n",
            "  y = column_or_1d(y, dtype=self.classes_.dtype, warn=True)\n",
            "/usr/local/lib/python3.11/dist-packages/sklearn/preprocessing/_label.py:129: DataConversionWarning: A column-vector y was passed when a 1d array was expected. Please change the shape of y to (n_samples, ), for example using ravel().\n",
            "  y = column_or_1d(y, dtype=self.classes_.dtype, warn=True)\n",
            "/usr/local/lib/python3.11/dist-packages/sklearn/preprocessing/_label.py:129: DataConversionWarning: A column-vector y was passed when a 1d array was expected. Please change the shape of y to (n_samples, ), for example using ravel().\n",
            "  y = column_or_1d(y, dtype=self.classes_.dtype, warn=True)\n",
            "/usr/local/lib/python3.11/dist-packages/sklearn/preprocessing/_label.py:93: DataConversionWarning: A column-vector y was passed when a 1d array was expected. Please change the shape of y to (n_samples, ), for example using ravel().\n",
            "  y = column_or_1d(y, warn=True)\n",
            "/usr/local/lib/python3.11/dist-packages/sklearn/preprocessing/_label.py:129: DataConversionWarning: A column-vector y was passed when a 1d array was expected. Please change the shape of y to (n_samples, ), for example using ravel().\n",
            "  y = column_or_1d(y, dtype=self.classes_.dtype, warn=True)\n",
            "/usr/local/lib/python3.11/dist-packages/sklearn/preprocessing/_label.py:129: DataConversionWarning: A column-vector y was passed when a 1d array was expected. Please change the shape of y to (n_samples, ), for example using ravel().\n",
            "  y = column_or_1d(y, dtype=self.classes_.dtype, warn=True)\n",
            "/usr/local/lib/python3.11/dist-packages/sklearn/preprocessing/_label.py:129: DataConversionWarning: A column-vector y was passed when a 1d array was expected. Please change the shape of y to (n_samples, ), for example using ravel().\n",
            "  y = column_or_1d(y, dtype=self.classes_.dtype, warn=True)\n",
            "/usr/local/lib/python3.11/dist-packages/sklearn/preprocessing/_label.py:93: DataConversionWarning: A column-vector y was passed when a 1d array was expected. Please change the shape of y to (n_samples, ), for example using ravel().\n",
            "  y = column_or_1d(y, warn=True)\n",
            "/usr/local/lib/python3.11/dist-packages/sklearn/preprocessing/_label.py:129: DataConversionWarning: A column-vector y was passed when a 1d array was expected. Please change the shape of y to (n_samples, ), for example using ravel().\n",
            "  y = column_or_1d(y, dtype=self.classes_.dtype, warn=True)\n",
            "/usr/local/lib/python3.11/dist-packages/sklearn/preprocessing/_label.py:129: DataConversionWarning: A column-vector y was passed when a 1d array was expected. Please change the shape of y to (n_samples, ), for example using ravel().\n",
            "  y = column_or_1d(y, dtype=self.classes_.dtype, warn=True)\n",
            "/usr/local/lib/python3.11/dist-packages/sklearn/preprocessing/_label.py:129: DataConversionWarning: A column-vector y was passed when a 1d array was expected. Please change the shape of y to (n_samples, ), for example using ravel().\n",
            "  y = column_or_1d(y, dtype=self.classes_.dtype, warn=True)\n",
            "/usr/local/lib/python3.11/dist-packages/sklearn/preprocessing/_label.py:93: DataConversionWarning: A column-vector y was passed when a 1d array was expected. Please change the shape of y to (n_samples, ), for example using ravel().\n",
            "  y = column_or_1d(y, warn=True)\n",
            "/usr/local/lib/python3.11/dist-packages/sklearn/preprocessing/_label.py:129: DataConversionWarning: A column-vector y was passed when a 1d array was expected. Please change the shape of y to (n_samples, ), for example using ravel().\n",
            "  y = column_or_1d(y, dtype=self.classes_.dtype, warn=True)\n",
            "/usr/local/lib/python3.11/dist-packages/sklearn/preprocessing/_label.py:129: DataConversionWarning: A column-vector y was passed when a 1d array was expected. Please change the shape of y to (n_samples, ), for example using ravel().\n",
            "  y = column_or_1d(y, dtype=self.classes_.dtype, warn=True)\n",
            "/usr/local/lib/python3.11/dist-packages/sklearn/preprocessing/_label.py:129: DataConversionWarning: A column-vector y was passed when a 1d array was expected. Please change the shape of y to (n_samples, ), for example using ravel().\n",
            "  y = column_or_1d(y, dtype=self.classes_.dtype, warn=True)\n",
            "/usr/local/lib/python3.11/dist-packages/sklearn/preprocessing/_label.py:93: DataConversionWarning: A column-vector y was passed when a 1d array was expected. Please change the shape of y to (n_samples, ), for example using ravel().\n",
            "  y = column_or_1d(y, warn=True)\n",
            "/usr/local/lib/python3.11/dist-packages/sklearn/preprocessing/_label.py:129: DataConversionWarning: A column-vector y was passed when a 1d array was expected. Please change the shape of y to (n_samples, ), for example using ravel().\n",
            "  y = column_or_1d(y, dtype=self.classes_.dtype, warn=True)\n",
            "/usr/local/lib/python3.11/dist-packages/sklearn/preprocessing/_label.py:129: DataConversionWarning: A column-vector y was passed when a 1d array was expected. Please change the shape of y to (n_samples, ), for example using ravel().\n",
            "  y = column_or_1d(y, dtype=self.classes_.dtype, warn=True)\n",
            "/usr/local/lib/python3.11/dist-packages/sklearn/preprocessing/_label.py:129: DataConversionWarning: A column-vector y was passed when a 1d array was expected. Please change the shape of y to (n_samples, ), for example using ravel().\n",
            "  y = column_or_1d(y, dtype=self.classes_.dtype, warn=True)\n",
            "/usr/local/lib/python3.11/dist-packages/sklearn/preprocessing/_label.py:93: DataConversionWarning: A column-vector y was passed when a 1d array was expected. Please change the shape of y to (n_samples, ), for example using ravel().\n",
            "  y = column_or_1d(y, warn=True)\n",
            "/usr/local/lib/python3.11/dist-packages/sklearn/preprocessing/_label.py:129: DataConversionWarning: A column-vector y was passed when a 1d array was expected. Please change the shape of y to (n_samples, ), for example using ravel().\n",
            "  y = column_or_1d(y, dtype=self.classes_.dtype, warn=True)\n",
            "/usr/local/lib/python3.11/dist-packages/sklearn/preprocessing/_label.py:129: DataConversionWarning: A column-vector y was passed when a 1d array was expected. Please change the shape of y to (n_samples, ), for example using ravel().\n",
            "  y = column_or_1d(y, dtype=self.classes_.dtype, warn=True)\n",
            "/usr/local/lib/python3.11/dist-packages/sklearn/preprocessing/_label.py:129: DataConversionWarning: A column-vector y was passed when a 1d array was expected. Please change the shape of y to (n_samples, ), for example using ravel().\n",
            "  y = column_or_1d(y, dtype=self.classes_.dtype, warn=True)\n",
            "/usr/local/lib/python3.11/dist-packages/sklearn/preprocessing/_label.py:93: DataConversionWarning: A column-vector y was passed when a 1d array was expected. Please change the shape of y to (n_samples, ), for example using ravel().\n",
            "  y = column_or_1d(y, warn=True)\n",
            "/usr/local/lib/python3.11/dist-packages/sklearn/preprocessing/_label.py:129: DataConversionWarning: A column-vector y was passed when a 1d array was expected. Please change the shape of y to (n_samples, ), for example using ravel().\n",
            "  y = column_or_1d(y, dtype=self.classes_.dtype, warn=True)\n",
            "/usr/local/lib/python3.11/dist-packages/sklearn/preprocessing/_label.py:129: DataConversionWarning: A column-vector y was passed when a 1d array was expected. Please change the shape of y to (n_samples, ), for example using ravel().\n",
            "  y = column_or_1d(y, dtype=self.classes_.dtype, warn=True)\n",
            "/usr/local/lib/python3.11/dist-packages/sklearn/preprocessing/_label.py:129: DataConversionWarning: A column-vector y was passed when a 1d array was expected. Please change the shape of y to (n_samples, ), for example using ravel().\n",
            "  y = column_or_1d(y, dtype=self.classes_.dtype, warn=True)\n",
            "/usr/local/lib/python3.11/dist-packages/sklearn/preprocessing/_label.py:93: DataConversionWarning: A column-vector y was passed when a 1d array was expected. Please change the shape of y to (n_samples, ), for example using ravel().\n",
            "  y = column_or_1d(y, warn=True)\n",
            "/usr/local/lib/python3.11/dist-packages/sklearn/preprocessing/_label.py:129: DataConversionWarning: A column-vector y was passed when a 1d array was expected. Please change the shape of y to (n_samples, ), for example using ravel().\n",
            "  y = column_or_1d(y, dtype=self.classes_.dtype, warn=True)\n",
            "/usr/local/lib/python3.11/dist-packages/sklearn/preprocessing/_label.py:129: DataConversionWarning: A column-vector y was passed when a 1d array was expected. Please change the shape of y to (n_samples, ), for example using ravel().\n",
            "  y = column_or_1d(y, dtype=self.classes_.dtype, warn=True)\n",
            "/usr/local/lib/python3.11/dist-packages/sklearn/preprocessing/_label.py:129: DataConversionWarning: A column-vector y was passed when a 1d array was expected. Please change the shape of y to (n_samples, ), for example using ravel().\n",
            "  y = column_or_1d(y, dtype=self.classes_.dtype, warn=True)\n",
            "/usr/local/lib/python3.11/dist-packages/sklearn/preprocessing/_label.py:93: DataConversionWarning: A column-vector y was passed when a 1d array was expected. Please change the shape of y to (n_samples, ), for example using ravel().\n",
            "  y = column_or_1d(y, warn=True)\n",
            "/usr/local/lib/python3.11/dist-packages/sklearn/preprocessing/_label.py:129: DataConversionWarning: A column-vector y was passed when a 1d array was expected. Please change the shape of y to (n_samples, ), for example using ravel().\n",
            "  y = column_or_1d(y, dtype=self.classes_.dtype, warn=True)\n",
            "/usr/local/lib/python3.11/dist-packages/sklearn/preprocessing/_label.py:129: DataConversionWarning: A column-vector y was passed when a 1d array was expected. Please change the shape of y to (n_samples, ), for example using ravel().\n",
            "  y = column_or_1d(y, dtype=self.classes_.dtype, warn=True)\n",
            "/usr/local/lib/python3.11/dist-packages/sklearn/preprocessing/_label.py:129: DataConversionWarning: A column-vector y was passed when a 1d array was expected. Please change the shape of y to (n_samples, ), for example using ravel().\n",
            "  y = column_or_1d(y, dtype=self.classes_.dtype, warn=True)\n",
            "/usr/local/lib/python3.11/dist-packages/sklearn/preprocessing/_label.py:93: DataConversionWarning: A column-vector y was passed when a 1d array was expected. Please change the shape of y to (n_samples, ), for example using ravel().\n",
            "  y = column_or_1d(y, warn=True)\n",
            "/usr/local/lib/python3.11/dist-packages/sklearn/preprocessing/_label.py:129: DataConversionWarning: A column-vector y was passed when a 1d array was expected. Please change the shape of y to (n_samples, ), for example using ravel().\n",
            "  y = column_or_1d(y, dtype=self.classes_.dtype, warn=True)\n",
            "/usr/local/lib/python3.11/dist-packages/sklearn/preprocessing/_label.py:129: DataConversionWarning: A column-vector y was passed when a 1d array was expected. Please change the shape of y to (n_samples, ), for example using ravel().\n",
            "  y = column_or_1d(y, dtype=self.classes_.dtype, warn=True)\n",
            "/usr/local/lib/python3.11/dist-packages/sklearn/preprocessing/_label.py:129: DataConversionWarning: A column-vector y was passed when a 1d array was expected. Please change the shape of y to (n_samples, ), for example using ravel().\n",
            "  y = column_or_1d(y, dtype=self.classes_.dtype, warn=True)\n",
            "/usr/local/lib/python3.11/dist-packages/sklearn/preprocessing/_label.py:93: DataConversionWarning: A column-vector y was passed when a 1d array was expected. Please change the shape of y to (n_samples, ), for example using ravel().\n",
            "  y = column_or_1d(y, warn=True)\n",
            "/usr/local/lib/python3.11/dist-packages/sklearn/preprocessing/_label.py:129: DataConversionWarning: A column-vector y was passed when a 1d array was expected. Please change the shape of y to (n_samples, ), for example using ravel().\n",
            "  y = column_or_1d(y, dtype=self.classes_.dtype, warn=True)\n",
            "/usr/local/lib/python3.11/dist-packages/sklearn/preprocessing/_label.py:129: DataConversionWarning: A column-vector y was passed when a 1d array was expected. Please change the shape of y to (n_samples, ), for example using ravel().\n",
            "  y = column_or_1d(y, dtype=self.classes_.dtype, warn=True)\n",
            "/usr/local/lib/python3.11/dist-packages/sklearn/preprocessing/_label.py:129: DataConversionWarning: A column-vector y was passed when a 1d array was expected. Please change the shape of y to (n_samples, ), for example using ravel().\n",
            "  y = column_or_1d(y, dtype=self.classes_.dtype, warn=True)\n",
            "/usr/local/lib/python3.11/dist-packages/sklearn/preprocessing/_label.py:93: DataConversionWarning: A column-vector y was passed when a 1d array was expected. Please change the shape of y to (n_samples, ), for example using ravel().\n",
            "  y = column_or_1d(y, warn=True)\n",
            "/usr/local/lib/python3.11/dist-packages/sklearn/preprocessing/_label.py:129: DataConversionWarning: A column-vector y was passed when a 1d array was expected. Please change the shape of y to (n_samples, ), for example using ravel().\n",
            "  y = column_or_1d(y, dtype=self.classes_.dtype, warn=True)\n",
            "/usr/local/lib/python3.11/dist-packages/sklearn/preprocessing/_label.py:129: DataConversionWarning: A column-vector y was passed when a 1d array was expected. Please change the shape of y to (n_samples, ), for example using ravel().\n",
            "  y = column_or_1d(y, dtype=self.classes_.dtype, warn=True)\n",
            "/usr/local/lib/python3.11/dist-packages/sklearn/preprocessing/_label.py:129: DataConversionWarning: A column-vector y was passed when a 1d array was expected. Please change the shape of y to (n_samples, ), for example using ravel().\n",
            "  y = column_or_1d(y, dtype=self.classes_.dtype, warn=True)\n",
            "/usr/local/lib/python3.11/dist-packages/sklearn/preprocessing/_label.py:93: DataConversionWarning: A column-vector y was passed when a 1d array was expected. Please change the shape of y to (n_samples, ), for example using ravel().\n",
            "  y = column_or_1d(y, warn=True)\n",
            "/usr/local/lib/python3.11/dist-packages/sklearn/preprocessing/_label.py:129: DataConversionWarning: A column-vector y was passed when a 1d array was expected. Please change the shape of y to (n_samples, ), for example using ravel().\n",
            "  y = column_or_1d(y, dtype=self.classes_.dtype, warn=True)\n",
            "/usr/local/lib/python3.11/dist-packages/sklearn/preprocessing/_label.py:129: DataConversionWarning: A column-vector y was passed when a 1d array was expected. Please change the shape of y to (n_samples, ), for example using ravel().\n",
            "  y = column_or_1d(y, dtype=self.classes_.dtype, warn=True)\n",
            "/usr/local/lib/python3.11/dist-packages/sklearn/preprocessing/_label.py:129: DataConversionWarning: A column-vector y was passed when a 1d array was expected. Please change the shape of y to (n_samples, ), for example using ravel().\n",
            "  y = column_or_1d(y, dtype=self.classes_.dtype, warn=True)\n",
            "/usr/local/lib/python3.11/dist-packages/sklearn/preprocessing/_label.py:93: DataConversionWarning: A column-vector y was passed when a 1d array was expected. Please change the shape of y to (n_samples, ), for example using ravel().\n",
            "  y = column_or_1d(y, warn=True)\n",
            "/usr/local/lib/python3.11/dist-packages/sklearn/preprocessing/_label.py:129: DataConversionWarning: A column-vector y was passed when a 1d array was expected. Please change the shape of y to (n_samples, ), for example using ravel().\n",
            "  y = column_or_1d(y, dtype=self.classes_.dtype, warn=True)\n",
            "/usr/local/lib/python3.11/dist-packages/sklearn/preprocessing/_label.py:129: DataConversionWarning: A column-vector y was passed when a 1d array was expected. Please change the shape of y to (n_samples, ), for example using ravel().\n",
            "  y = column_or_1d(y, dtype=self.classes_.dtype, warn=True)\n",
            "/usr/local/lib/python3.11/dist-packages/sklearn/preprocessing/_label.py:129: DataConversionWarning: A column-vector y was passed when a 1d array was expected. Please change the shape of y to (n_samples, ), for example using ravel().\n",
            "  y = column_or_1d(y, dtype=self.classes_.dtype, warn=True)\n",
            "/usr/local/lib/python3.11/dist-packages/sklearn/preprocessing/_label.py:93: DataConversionWarning: A column-vector y was passed when a 1d array was expected. Please change the shape of y to (n_samples, ), for example using ravel().\n",
            "  y = column_or_1d(y, warn=True)\n",
            "/usr/local/lib/python3.11/dist-packages/sklearn/preprocessing/_label.py:129: DataConversionWarning: A column-vector y was passed when a 1d array was expected. Please change the shape of y to (n_samples, ), for example using ravel().\n",
            "  y = column_or_1d(y, dtype=self.classes_.dtype, warn=True)\n",
            "/usr/local/lib/python3.11/dist-packages/sklearn/preprocessing/_label.py:129: DataConversionWarning: A column-vector y was passed when a 1d array was expected. Please change the shape of y to (n_samples, ), for example using ravel().\n",
            "  y = column_or_1d(y, dtype=self.classes_.dtype, warn=True)\n",
            "/usr/local/lib/python3.11/dist-packages/sklearn/preprocessing/_label.py:129: DataConversionWarning: A column-vector y was passed when a 1d array was expected. Please change the shape of y to (n_samples, ), for example using ravel().\n",
            "  y = column_or_1d(y, dtype=self.classes_.dtype, warn=True)\n",
            "/usr/local/lib/python3.11/dist-packages/sklearn/preprocessing/_label.py:93: DataConversionWarning: A column-vector y was passed when a 1d array was expected. Please change the shape of y to (n_samples, ), for example using ravel().\n",
            "  y = column_or_1d(y, warn=True)\n",
            "/usr/local/lib/python3.11/dist-packages/sklearn/preprocessing/_label.py:129: DataConversionWarning: A column-vector y was passed when a 1d array was expected. Please change the shape of y to (n_samples, ), for example using ravel().\n",
            "  y = column_or_1d(y, dtype=self.classes_.dtype, warn=True)\n",
            "/usr/local/lib/python3.11/dist-packages/sklearn/preprocessing/_label.py:129: DataConversionWarning: A column-vector y was passed when a 1d array was expected. Please change the shape of y to (n_samples, ), for example using ravel().\n",
            "  y = column_or_1d(y, dtype=self.classes_.dtype, warn=True)\n",
            "/usr/local/lib/python3.11/dist-packages/sklearn/preprocessing/_label.py:129: DataConversionWarning: A column-vector y was passed when a 1d array was expected. Please change the shape of y to (n_samples, ), for example using ravel().\n",
            "  y = column_or_1d(y, dtype=self.classes_.dtype, warn=True)\n"
          ]
        }
      ]
    },
    {
      "cell_type": "code",
      "source": [
        "y_train = np.log(y_train.values.reshape(-1, 1)).flatten()\n",
        "y_test = np.log(y_test.values.reshape(-1, 1)).flatten()\n",
        "y_val = np.log(y_val.values.reshape(-1, 1)).flatten()\n",
        "\n",
        "#сохраняем исходные зарплаты, до перевода в категории\n",
        "y_train_original = y_train.copy()\n",
        "y_test_original = y_test.copy()\n",
        "y_val_original = y_val.copy()\n",
        "\n",
        "_, bins = pd.qcut(y_train, q=5, retbins=True, labels=False)\n",
        "\n",
        "#разбиваем на квантили\n",
        "y_train = pd.cut(y_train, bins=bins, labels=False, include_lowest=True)\n",
        "y_test = pd.cut(y_test, bins=bins, labels=False, include_lowest=True)\n",
        "y_val = pd.cut(y_val, bins=bins, labels=False, include_lowest=True)\n",
        "\n",
        "#переводим нужные переменные в категории\n",
        "def type_converter(X):\n",
        "    for i in cat_features:\n",
        "        X[i] = X[i].astype('category')\n",
        "    return X\n",
        "X_train = type_converter(X_train)\n",
        "X_test = type_converter(X_test)\n",
        "X_val = type_converter(X_val)"
      ],
      "metadata": {
        "id": "7eLxKIvSiJrL"
      },
      "execution_count": null,
      "outputs": []
    },
    {
      "cell_type": "markdown",
      "source": [
        "**FIT И ОЦЕНКА ПРОМЕЖУТОЧНЫХ РЕЗУЛЬТАТОВ МОДЕЛЕЙ**"
      ],
      "metadata": {
        "id": "ykBS_Ua0lLLj"
      }
    },
    {
      "cell_type": "markdown",
      "source": [
        "Обучим классификатор catboost для предсказания метки класса зарплаты и установим early_stopping_rounds, чтобы остановить обучение, когда изменение метрики будет малым"
      ],
      "metadata": {
        "id": "V9PfEbn2j3VS"
      }
    },
    {
      "cell_type": "code",
      "source": [
        "cbс = CatBoostClassifier(\n",
        "    n_estimators=2000,\n",
        "    learning_rate=1,\n",
        "    max_depth=5,\n",
        "\n",
        "    cat_features=cat_features,\n",
        "    random_state=42,\n",
        "    eval_metric='MultiClass',\n",
        "    loss_function='MultiClass',\n",
        "    early_stopping_rounds=50,\n",
        "    verbose=100\n",
        ")\n",
        "cbс.fit(X_train, y_train, eval_set = (X_val, y_val))\n"
      ],
      "metadata": {
        "colab": {
          "base_uri": "https://localhost:8080/"
        },
        "id": "r8mxLQqYBp4W",
        "outputId": "3035dec2-15af-4c89-ae24-da347c6243aa"
      },
      "execution_count": null,
      "outputs": [
        {
          "output_type": "stream",
          "name": "stdout",
          "text": [
            "0:\tlearn: 1.3710738\ttest: 1.3658168\tbest: 1.3658168 (0)\ttotal: 366ms\tremaining: 12m 12s\n",
            "100:\tlearn: 1.0073269\ttest: 1.0291641\tbest: 1.0291641 (100)\ttotal: 41.6s\tremaining: 13m 2s\n",
            "200:\tlearn: 0.8818152\ttest: 0.9450251\tbest: 0.9450251 (200)\ttotal: 1m 21s\tremaining: 12m 13s\n",
            "300:\tlearn: 0.7844104\ttest: 0.8824030\tbest: 0.8824030 (300)\ttotal: 1m 58s\tremaining: 11m 7s\n",
            "400:\tlearn: 0.7045088\ttest: 0.8361311\tbest: 0.8361311 (400)\ttotal: 2m 36s\tremaining: 10m 24s\n",
            "500:\tlearn: 0.6395183\ttest: 0.8016870\tbest: 0.8016870 (500)\ttotal: 3m 11s\tremaining: 9m 34s\n",
            "600:\tlearn: 0.5824405\ttest: 0.7785605\tbest: 0.7785605 (600)\ttotal: 3m 53s\tremaining: 9m 2s\n",
            "700:\tlearn: 0.5352242\ttest: 0.7544809\tbest: 0.7543771 (699)\ttotal: 4m 33s\tremaining: 8m 27s\n",
            "800:\tlearn: 0.4934156\ttest: 0.7311056\tbest: 0.7311056 (800)\ttotal: 5m 10s\tremaining: 7m 45s\n",
            "900:\tlearn: 0.4562066\ttest: 0.7118030\tbest: 0.7118030 (900)\ttotal: 5m 45s\tremaining: 7m 1s\n",
            "1000:\tlearn: 0.4226567\ttest: 0.6970655\tbest: 0.6970655 (1000)\ttotal: 6m 24s\tremaining: 6m 23s\n",
            "1100:\tlearn: 0.3931898\ttest: 0.6843982\tbest: 0.6840814 (1097)\ttotal: 7m 1s\tremaining: 5m 44s\n",
            "1200:\tlearn: 0.3685887\ttest: 0.6755435\tbest: 0.6753697 (1199)\ttotal: 7m 45s\tremaining: 5m 9s\n",
            "1300:\tlearn: 0.3444061\ttest: 0.6654510\tbest: 0.6652700 (1299)\ttotal: 8m 26s\tremaining: 4m 31s\n",
            "1400:\tlearn: 0.3237887\ttest: 0.6584497\tbest: 0.6580013 (1380)\ttotal: 8m 58s\tremaining: 3m 50s\n",
            "1500:\tlearn: 0.3038530\ttest: 0.6540106\tbest: 0.6523368 (1486)\ttotal: 9m 39s\tremaining: 3m 12s\n",
            "1600:\tlearn: 0.2857486\ttest: 0.6468311\tbest: 0.6467574 (1592)\ttotal: 10m 25s\tremaining: 2m 35s\n",
            "1700:\tlearn: 0.2702406\ttest: 0.6413623\tbest: 0.6410895 (1697)\ttotal: 11m 6s\tremaining: 1m 57s\n",
            "1800:\tlearn: 0.2560759\ttest: 0.6407713\tbest: 0.6389589 (1754)\ttotal: 11m 46s\tremaining: 1m 18s\n",
            "Stopped by overfitting detector  (50 iterations wait)\n",
            "\n",
            "bestTest = 0.6389588809\n",
            "bestIteration = 1754\n",
            "\n",
            "Shrink model to first 1755 iterations.\n"
          ]
        },
        {
          "output_type": "execute_result",
          "data": {
            "text/plain": [
              "<catboost.core.CatBoostClassifier at 0x78653b31d4d0>"
            ]
          },
          "metadata": {},
          "execution_count": 67
        }
      ]
    },
    {
      "cell_type": "markdown",
      "source": [
        "Получаем предсказания классов (y_pred) и вероятности классов (y_proba) и выводим метрики качества (roc-auc работает с помощью голосования большинства)"
      ],
      "metadata": {
        "id": "fRFf1yeykVfT"
      }
    },
    {
      "cell_type": "code",
      "source": [
        "y_pred_val = cbс.predict(X_val)\n",
        "y_pred_train = cbс.predict(X_train)\n",
        "y_pred_test = cbс.predict(X_test)\n",
        "y_proba_train = cbс.predict_proba(X_train)\n",
        "y_proba_val = cbс.predict_proba(X_val)\n",
        "y_proba_test = cbс.predict_proba(X_test)\n",
        "\n",
        "\n",
        "print(\"train accuracy score:\", accuracy_score(y_train, y_pred_train))\n",
        "print(\"val accuracy score:\", accuracy_score(y_val, y_pred_val))\n",
        "print(\"test accuracy score:\", accuracy_score(y_test, y_pred_test))\n",
        "\n",
        "print(\"train ROC-AUC score:\", roc_auc_score(y_train, y_proba_train, multi_class='ovo'))\n",
        "print(\"val ROC-AUC score:\", roc_auc_score(y_val, y_proba_val, multi_class='ovo'))\n",
        "print(\"test ROC-AUC score:\", roc_auc_score(y_test, y_proba_test, multi_class='ovo'))"
      ],
      "metadata": {
        "colab": {
          "base_uri": "https://localhost:8080/"
        },
        "id": "_AJzgeoCBqSM",
        "outputId": "e92a3024-655c-4c53-c717-7a17be8e140f"
      },
      "execution_count": null,
      "outputs": [
        {
          "output_type": "stream",
          "name": "stdout",
          "text": [
            "train accuracy score: 0.7544721998388396\n",
            "val accuracy score: 0.7567201701798492\n",
            "test accuracy score: 0.6982530780635596\n",
            "train ROC-AUC score: 0.9449289756406806\n",
            "val ROC-AUC score: 0.9459893021615681\n",
            "test ROC-AUC score: 0.9199013014096394\n"
          ]
        }
      ]
    },
    {
      "cell_type": "markdown",
      "source": [
        "Для мультиклассовой (5 классов) задачи accuracy 0.7 на тестовой выборке в нашем случае не плох, учитывая специфику задачи (ошибка в предсказании класса зарплаты не так критична, как, например, в медицине или финансах, где такой accuracy мог бы быть не достаточным ) и то, что баланс классов сохраняется и accuracy из-за этого не искажен. ROC-AUC, подсчитанный как среднее для всех классов (one vs one), показывает неплохие значения"
      ],
      "metadata": {
        "id": "Kj9qN9khfs7c"
      }
    },
    {
      "cell_type": "markdown",
      "source": [
        "Вычисляем roc-auc для каждого класса, чтобы понять, как модель справляется с предсказаниями каждого класса по отдельности"
      ],
      "metadata": {
        "id": "-nJgj9nslfz1"
      }
    },
    {
      "cell_type": "code",
      "source": [
        "\n",
        "y_val = np.array(y_val)\n",
        "\n",
        "y_proba_val = np.array(y_proba_val)  # np.array, если ещё не массив\n",
        "\n",
        "# Бинаризуем метки классов (one-hot encoding)\n",
        "y_val_bin = label_binarize(y_val, classes=np.unique(y_val))\n",
        "\n",
        "# Вычисляем ROC AUC для каждого класса отдельно\n",
        "for i, class_label in enumerate(np.unique(y_val)):\n",
        "    auc_score = roc_auc_score(y_val_bin[:, i], y_proba_val[:, i])\n",
        "    print(f\"ROC AUC для класса {class_label}: {auc_score:.4f}\")"
      ],
      "metadata": {
        "colab": {
          "base_uri": "https://localhost:8080/"
        },
        "id": "pflm-Xh7BskF",
        "outputId": "33f8b55d-02e5-4231-bd3e-ad2abd111104"
      },
      "execution_count": null,
      "outputs": [
        {
          "output_type": "stream",
          "name": "stdout",
          "text": [
            "ROC AUC для класса 0: 0.9746\n",
            "ROC AUC для класса 1: 0.9409\n",
            "ROC AUC для класса 2: 0.9228\n",
            "ROC AUC для класса 3: 0.9325\n",
            "ROC AUC для класса 4: 0.9600\n"
          ]
        }
      ]
    },
    {
      "cell_type": "markdown",
      "source": [
        "Модель хуже справляется с средним сегментом зарплат (в районе 100-120 тысяч рублей) из-за того, что квантили зарплат находятся близко друг к другу по значениям (разница между 2,3,4 квантилями зарплат составляет всего около 20-35 тысяч, что близко, учитывая, что зарплаты разнятся от 40 до 600+ тысяч рублей). Но метрика тем не менее не слишком отличается для разных классов"
      ],
      "metadata": {
        "id": "IrnlnrE9g6aS"
      }
    },
    {
      "cell_type": "markdown",
      "source": [
        "Строим confusion matrix для понимания, какие классы модель путает с другими классами"
      ],
      "metadata": {
        "id": "mtSp5dmtlryS"
      }
    },
    {
      "cell_type": "code",
      "source": [
        "cm = confusion_matrix(y_val, y_pred_val)\n",
        "\n",
        "heatmap = go.Heatmap(z=cm, x=['0', '1', '2', '3', '4'], y=['0', '1', '2', '3', '4'], colorscale='Blues', text = cm.tolist(), texttemplate=\"%{text}\",\n",
        "                    textfont={\"size\":20})\n",
        "\n",
        "layout = go.Layout(title='Confusion Metrix')\n",
        "\n",
        "fig = go.Figure(data=[heatmap], layout=layout)\n",
        "\n",
        "fig.show()"
      ],
      "metadata": {
        "colab": {
          "base_uri": "https://localhost:8080/",
          "height": 542
        },
        "id": "0rV_zD3GB4Qk",
        "outputId": "9310027d-6000-4d3a-acad-e4f927613a8d"
      },
      "execution_count": null,
      "outputs": [
        {
          "output_type": "display_data",
          "data": {
            "text/html": [
              "<html>\n",
              "<head><meta charset=\"utf-8\" /></head>\n",
              "<body>\n",
              "    <div>            <script src=\"https://cdnjs.cloudflare.com/ajax/libs/mathjax/2.7.5/MathJax.js?config=TeX-AMS-MML_SVG\"></script><script type=\"text/javascript\">if (window.MathJax && window.MathJax.Hub && window.MathJax.Hub.Config) {window.MathJax.Hub.Config({SVG: {font: \"STIX-Web\"}});}</script>                <script type=\"text/javascript\">window.PlotlyConfig = {MathJaxConfig: 'local'};</script>\n",
              "        <script charset=\"utf-8\" src=\"https://cdn.plot.ly/plotly-2.35.2.min.js\"></script>                <div id=\"5247b699-5dda-49c1-8c1a-5085f712beab\" class=\"plotly-graph-div\" style=\"height:525px; width:100%;\"></div>            <script type=\"text/javascript\">                                    window.PLOTLYENV=window.PLOTLYENV || {};                                    if (document.getElementById(\"5247b699-5dda-49c1-8c1a-5085f712beab\")) {                    Plotly.newPlot(                        \"5247b699-5dda-49c1-8c1a-5085f712beab\",                        [{\"colorscale\":[[0.0,\"rgb(247,251,255)\"],[0.125,\"rgb(222,235,247)\"],[0.25,\"rgb(198,219,239)\"],[0.375,\"rgb(158,202,225)\"],[0.5,\"rgb(107,174,214)\"],[0.625,\"rgb(66,146,198)\"],[0.75,\"rgb(33,113,181)\"],[0.875,\"rgb(8,81,156)\"],[1.0,\"rgb(8,48,107)\"]],\"text\":[[2706,283,118,66,43],[250,2115,325,139,93],[145,285,2278,320,202],[72,114,294,2113,387],[42,66,187,343,2527]],\"textfont\":{\"size\":20},\"texttemplate\":\"%{text}\",\"x\":[\"0\",\"1\",\"2\",\"3\",\"4\"],\"y\":[\"0\",\"1\",\"2\",\"3\",\"4\"],\"z\":[[2706,283,118,66,43],[250,2115,325,139,93],[145,285,2278,320,202],[72,114,294,2113,387],[42,66,187,343,2527]],\"type\":\"heatmap\"}],                        {\"title\":{\"text\":\"Confusion Metrix\"},\"template\":{\"data\":{\"histogram2dcontour\":[{\"type\":\"histogram2dcontour\",\"colorbar\":{\"outlinewidth\":0,\"ticks\":\"\"},\"colorscale\":[[0.0,\"#0d0887\"],[0.1111111111111111,\"#46039f\"],[0.2222222222222222,\"#7201a8\"],[0.3333333333333333,\"#9c179e\"],[0.4444444444444444,\"#bd3786\"],[0.5555555555555556,\"#d8576b\"],[0.6666666666666666,\"#ed7953\"],[0.7777777777777778,\"#fb9f3a\"],[0.8888888888888888,\"#fdca26\"],[1.0,\"#f0f921\"]]}],\"choropleth\":[{\"type\":\"choropleth\",\"colorbar\":{\"outlinewidth\":0,\"ticks\":\"\"}}],\"histogram2d\":[{\"type\":\"histogram2d\",\"colorbar\":{\"outlinewidth\":0,\"ticks\":\"\"},\"colorscale\":[[0.0,\"#0d0887\"],[0.1111111111111111,\"#46039f\"],[0.2222222222222222,\"#7201a8\"],[0.3333333333333333,\"#9c179e\"],[0.4444444444444444,\"#bd3786\"],[0.5555555555555556,\"#d8576b\"],[0.6666666666666666,\"#ed7953\"],[0.7777777777777778,\"#fb9f3a\"],[0.8888888888888888,\"#fdca26\"],[1.0,\"#f0f921\"]]}],\"heatmap\":[{\"type\":\"heatmap\",\"colorbar\":{\"outlinewidth\":0,\"ticks\":\"\"},\"colorscale\":[[0.0,\"#0d0887\"],[0.1111111111111111,\"#46039f\"],[0.2222222222222222,\"#7201a8\"],[0.3333333333333333,\"#9c179e\"],[0.4444444444444444,\"#bd3786\"],[0.5555555555555556,\"#d8576b\"],[0.6666666666666666,\"#ed7953\"],[0.7777777777777778,\"#fb9f3a\"],[0.8888888888888888,\"#fdca26\"],[1.0,\"#f0f921\"]]}],\"heatmapgl\":[{\"type\":\"heatmapgl\",\"colorbar\":{\"outlinewidth\":0,\"ticks\":\"\"},\"colorscale\":[[0.0,\"#0d0887\"],[0.1111111111111111,\"#46039f\"],[0.2222222222222222,\"#7201a8\"],[0.3333333333333333,\"#9c179e\"],[0.4444444444444444,\"#bd3786\"],[0.5555555555555556,\"#d8576b\"],[0.6666666666666666,\"#ed7953\"],[0.7777777777777778,\"#fb9f3a\"],[0.8888888888888888,\"#fdca26\"],[1.0,\"#f0f921\"]]}],\"contourcarpet\":[{\"type\":\"contourcarpet\",\"colorbar\":{\"outlinewidth\":0,\"ticks\":\"\"}}],\"contour\":[{\"type\":\"contour\",\"colorbar\":{\"outlinewidth\":0,\"ticks\":\"\"},\"colorscale\":[[0.0,\"#0d0887\"],[0.1111111111111111,\"#46039f\"],[0.2222222222222222,\"#7201a8\"],[0.3333333333333333,\"#9c179e\"],[0.4444444444444444,\"#bd3786\"],[0.5555555555555556,\"#d8576b\"],[0.6666666666666666,\"#ed7953\"],[0.7777777777777778,\"#fb9f3a\"],[0.8888888888888888,\"#fdca26\"],[1.0,\"#f0f921\"]]}],\"surface\":[{\"type\":\"surface\",\"colorbar\":{\"outlinewidth\":0,\"ticks\":\"\"},\"colorscale\":[[0.0,\"#0d0887\"],[0.1111111111111111,\"#46039f\"],[0.2222222222222222,\"#7201a8\"],[0.3333333333333333,\"#9c179e\"],[0.4444444444444444,\"#bd3786\"],[0.5555555555555556,\"#d8576b\"],[0.6666666666666666,\"#ed7953\"],[0.7777777777777778,\"#fb9f3a\"],[0.8888888888888888,\"#fdca26\"],[1.0,\"#f0f921\"]]}],\"mesh3d\":[{\"type\":\"mesh3d\",\"colorbar\":{\"outlinewidth\":0,\"ticks\":\"\"}}],\"scatter\":[{\"fillpattern\":{\"fillmode\":\"overlay\",\"size\":10,\"solidity\":0.2},\"type\":\"scatter\"}],\"parcoords\":[{\"type\":\"parcoords\",\"line\":{\"colorbar\":{\"outlinewidth\":0,\"ticks\":\"\"}}}],\"scatterpolargl\":[{\"type\":\"scatterpolargl\",\"marker\":{\"colorbar\":{\"outlinewidth\":0,\"ticks\":\"\"}}}],\"bar\":[{\"error_x\":{\"color\":\"#2a3f5f\"},\"error_y\":{\"color\":\"#2a3f5f\"},\"marker\":{\"line\":{\"color\":\"#E5ECF6\",\"width\":0.5},\"pattern\":{\"fillmode\":\"overlay\",\"size\":10,\"solidity\":0.2}},\"type\":\"bar\"}],\"scattergeo\":[{\"type\":\"scattergeo\",\"marker\":{\"colorbar\":{\"outlinewidth\":0,\"ticks\":\"\"}}}],\"scatterpolar\":[{\"type\":\"scatterpolar\",\"marker\":{\"colorbar\":{\"outlinewidth\":0,\"ticks\":\"\"}}}],\"histogram\":[{\"marker\":{\"pattern\":{\"fillmode\":\"overlay\",\"size\":10,\"solidity\":0.2}},\"type\":\"histogram\"}],\"scattergl\":[{\"type\":\"scattergl\",\"marker\":{\"colorbar\":{\"outlinewidth\":0,\"ticks\":\"\"}}}],\"scatter3d\":[{\"type\":\"scatter3d\",\"line\":{\"colorbar\":{\"outlinewidth\":0,\"ticks\":\"\"}},\"marker\":{\"colorbar\":{\"outlinewidth\":0,\"ticks\":\"\"}}}],\"scattermapbox\":[{\"type\":\"scattermapbox\",\"marker\":{\"colorbar\":{\"outlinewidth\":0,\"ticks\":\"\"}}}],\"scatterternary\":[{\"type\":\"scatterternary\",\"marker\":{\"colorbar\":{\"outlinewidth\":0,\"ticks\":\"\"}}}],\"scattercarpet\":[{\"type\":\"scattercarpet\",\"marker\":{\"colorbar\":{\"outlinewidth\":0,\"ticks\":\"\"}}}],\"carpet\":[{\"aaxis\":{\"endlinecolor\":\"#2a3f5f\",\"gridcolor\":\"white\",\"linecolor\":\"white\",\"minorgridcolor\":\"white\",\"startlinecolor\":\"#2a3f5f\"},\"baxis\":{\"endlinecolor\":\"#2a3f5f\",\"gridcolor\":\"white\",\"linecolor\":\"white\",\"minorgridcolor\":\"white\",\"startlinecolor\":\"#2a3f5f\"},\"type\":\"carpet\"}],\"table\":[{\"cells\":{\"fill\":{\"color\":\"#EBF0F8\"},\"line\":{\"color\":\"white\"}},\"header\":{\"fill\":{\"color\":\"#C8D4E3\"},\"line\":{\"color\":\"white\"}},\"type\":\"table\"}],\"barpolar\":[{\"marker\":{\"line\":{\"color\":\"#E5ECF6\",\"width\":0.5},\"pattern\":{\"fillmode\":\"overlay\",\"size\":10,\"solidity\":0.2}},\"type\":\"barpolar\"}],\"pie\":[{\"automargin\":true,\"type\":\"pie\"}]},\"layout\":{\"autotypenumbers\":\"strict\",\"colorway\":[\"#636efa\",\"#EF553B\",\"#00cc96\",\"#ab63fa\",\"#FFA15A\",\"#19d3f3\",\"#FF6692\",\"#B6E880\",\"#FF97FF\",\"#FECB52\"],\"font\":{\"color\":\"#2a3f5f\"},\"hovermode\":\"closest\",\"hoverlabel\":{\"align\":\"left\"},\"paper_bgcolor\":\"white\",\"plot_bgcolor\":\"#E5ECF6\",\"polar\":{\"bgcolor\":\"#E5ECF6\",\"angularaxis\":{\"gridcolor\":\"white\",\"linecolor\":\"white\",\"ticks\":\"\"},\"radialaxis\":{\"gridcolor\":\"white\",\"linecolor\":\"white\",\"ticks\":\"\"}},\"ternary\":{\"bgcolor\":\"#E5ECF6\",\"aaxis\":{\"gridcolor\":\"white\",\"linecolor\":\"white\",\"ticks\":\"\"},\"baxis\":{\"gridcolor\":\"white\",\"linecolor\":\"white\",\"ticks\":\"\"},\"caxis\":{\"gridcolor\":\"white\",\"linecolor\":\"white\",\"ticks\":\"\"}},\"coloraxis\":{\"colorbar\":{\"outlinewidth\":0,\"ticks\":\"\"}},\"colorscale\":{\"sequential\":[[0.0,\"#0d0887\"],[0.1111111111111111,\"#46039f\"],[0.2222222222222222,\"#7201a8\"],[0.3333333333333333,\"#9c179e\"],[0.4444444444444444,\"#bd3786\"],[0.5555555555555556,\"#d8576b\"],[0.6666666666666666,\"#ed7953\"],[0.7777777777777778,\"#fb9f3a\"],[0.8888888888888888,\"#fdca26\"],[1.0,\"#f0f921\"]],\"sequentialminus\":[[0.0,\"#0d0887\"],[0.1111111111111111,\"#46039f\"],[0.2222222222222222,\"#7201a8\"],[0.3333333333333333,\"#9c179e\"],[0.4444444444444444,\"#bd3786\"],[0.5555555555555556,\"#d8576b\"],[0.6666666666666666,\"#ed7953\"],[0.7777777777777778,\"#fb9f3a\"],[0.8888888888888888,\"#fdca26\"],[1.0,\"#f0f921\"]],\"diverging\":[[0,\"#8e0152\"],[0.1,\"#c51b7d\"],[0.2,\"#de77ae\"],[0.3,\"#f1b6da\"],[0.4,\"#fde0ef\"],[0.5,\"#f7f7f7\"],[0.6,\"#e6f5d0\"],[0.7,\"#b8e186\"],[0.8,\"#7fbc41\"],[0.9,\"#4d9221\"],[1,\"#276419\"]]},\"xaxis\":{\"gridcolor\":\"white\",\"linecolor\":\"white\",\"ticks\":\"\",\"title\":{\"standoff\":15},\"zerolinecolor\":\"white\",\"automargin\":true,\"zerolinewidth\":2},\"yaxis\":{\"gridcolor\":\"white\",\"linecolor\":\"white\",\"ticks\":\"\",\"title\":{\"standoff\":15},\"zerolinecolor\":\"white\",\"automargin\":true,\"zerolinewidth\":2},\"scene\":{\"xaxis\":{\"backgroundcolor\":\"#E5ECF6\",\"gridcolor\":\"white\",\"linecolor\":\"white\",\"showbackground\":true,\"ticks\":\"\",\"zerolinecolor\":\"white\",\"gridwidth\":2},\"yaxis\":{\"backgroundcolor\":\"#E5ECF6\",\"gridcolor\":\"white\",\"linecolor\":\"white\",\"showbackground\":true,\"ticks\":\"\",\"zerolinecolor\":\"white\",\"gridwidth\":2},\"zaxis\":{\"backgroundcolor\":\"#E5ECF6\",\"gridcolor\":\"white\",\"linecolor\":\"white\",\"showbackground\":true,\"ticks\":\"\",\"zerolinecolor\":\"white\",\"gridwidth\":2}},\"shapedefaults\":{\"line\":{\"color\":\"#2a3f5f\"}},\"annotationdefaults\":{\"arrowcolor\":\"#2a3f5f\",\"arrowhead\":0,\"arrowwidth\":1},\"geo\":{\"bgcolor\":\"white\",\"landcolor\":\"#E5ECF6\",\"subunitcolor\":\"white\",\"showland\":true,\"showlakes\":true,\"lakecolor\":\"white\"},\"title\":{\"x\":0.05},\"mapbox\":{\"style\":\"light\"}}}},                        {\"responsive\": true}                    ).then(function(){\n",
              "                            \n",
              "var gd = document.getElementById('5247b699-5dda-49c1-8c1a-5085f712beab');\n",
              "var x = new MutationObserver(function (mutations, observer) {{\n",
              "        var display = window.getComputedStyle(gd).display;\n",
              "        if (!display || display === 'none') {{\n",
              "            console.log([gd, 'removed!']);\n",
              "            Plotly.purge(gd);\n",
              "            observer.disconnect();\n",
              "        }}\n",
              "}});\n",
              "\n",
              "// Listen for the removal of the full notebook cells\n",
              "var notebookContainer = gd.closest('#notebook-container');\n",
              "if (notebookContainer) {{\n",
              "    x.observe(notebookContainer, {childList: true});\n",
              "}}\n",
              "\n",
              "// Listen for the clearing of the current output cell\n",
              "var outputEl = gd.closest('.output');\n",
              "if (outputEl) {{\n",
              "    x.observe(outputEl, {childList: true});\n",
              "}}\n",
              "\n",
              "                        })                };                            </script>        </div>\n",
              "</body>\n",
              "</html>"
            ]
          },
          "metadata": {}
        }
      ]
    },
    {
      "cell_type": "markdown",
      "source": [
        "Модель скорее чаще немного завышает зарплату, чем занижает и основная проблема с зарплатами в диапазоне от 80 до 160 тысяч рублей. Это пожет быть связано с тем, что модели сложно работать с такими профессиями, как программист, инженер, экономист и т.п., зарплаты которых могут разниться в широком диапазоне от области работы."
      ],
      "metadata": {
        "id": "g_ZOIIbdiAL_"
      }
    },
    {
      "cell_type": "markdown",
      "source": [
        "Обучим 5 регрессионных моделей, каждая из которых будет обучена на выборке лишь с одним предсказанном классом. 5 моделей нужно, чтобы каждый cat boost regressor был обучен под свой сегмент объектов, зарплаты которых лежат в определенном диапазоне (между значениями квантилей).\n",
        "\n",
        " Это будет намного эффективнее, чем просто запустить одну регрессионную модель для всей выборки, ведь каждая из пяти моделей будет специализироваться на своих классах объектов и соответственно настройка весов пяти моделей в совокупности будет более точной, чем у одной модели."
      ],
      "metadata": {
        "id": "I0I8uJhml4Rt"
      }
    },
    {
      "cell_type": "code",
      "source": [
        "regressors = {}\n",
        "\n",
        "y_train_original = pd.Series(y_train_original)\n",
        "y_val_original = pd.Series(y_val_original)\n",
        "\n",
        "for quantile in range(5):\n",
        "    mask_train = (y_pred_train == quantile)\n",
        "    mask_val = (y_pred_val == quantile)\n",
        "\n",
        "    mask_train = np.asarray(mask_train, dtype=bool).ravel()\n",
        "    mask_val = np.asarray(mask_val, dtype=bool).ravel()\n",
        "\n",
        "    X_train_q = X_train.loc[mask_train]\n",
        "    y_train_q = y_train_original.loc[mask_train]\n",
        "\n",
        "    X_val_q = X_val.loc[mask_val]\n",
        "    y_val_q = y_val_original.loc[mask_val]\n",
        "    print(f\"Обучаем регрессор для квантиля {quantile}: {len(X_train_q)} примеров\")\n",
        "\n",
        "    reg = CatBoostRegressor(\n",
        "        n_estimators=1000,\n",
        "        learning_rate=1,\n",
        "        max_depth=5,\n",
        "        cat_features=cat_features,\n",
        "        random_state=42,\n",
        "        loss_function='RMSE',\n",
        "        early_stopping_rounds=50,\n",
        "        verbose=100\n",
        "    )\n",
        "    reg.fit(X_train_q, y_train_q, eval_set=(X_val_q, y_val_q))\n",
        "    regressors[quantile] = reg\n"
      ],
      "metadata": {
        "colab": {
          "base_uri": "https://localhost:8080/"
        },
        "id": "qHQEbFP1B4p0",
        "outputId": "8216aca6-04c0-4514-cc3d-b171d8acc453"
      },
      "execution_count": null,
      "outputs": [
        {
          "output_type": "stream",
          "name": "stdout",
          "text": [
            "Обучаем регрессор для квантиля 0: 5173 примеров\n",
            "0:\tlearn: 0.3960521\ttest: 0.3942385\tbest: 0.3942385 (0)\ttotal: 48.4ms\tremaining: 48.3s\n",
            "100:\tlearn: 0.2221032\ttest: 0.2337132\tbest: 0.2315876 (99)\ttotal: 2.35s\tremaining: 20.9s\n",
            "200:\tlearn: 0.1822527\ttest: 0.2099190\tbest: 0.2099190 (200)\ttotal: 4.31s\tremaining: 17.1s\n",
            "300:\tlearn: 0.1619323\ttest: 0.1985776\tbest: 0.1985776 (300)\ttotal: 5.71s\tremaining: 13.3s\n",
            "400:\tlearn: 0.1472615\ttest: 0.1910071\tbest: 0.1910071 (400)\ttotal: 6.42s\tremaining: 9.6s\n",
            "500:\tlearn: 0.1371312\ttest: 0.1866709\tbest: 0.1866566 (497)\ttotal: 7.13s\tremaining: 7.1s\n",
            "600:\tlearn: 0.1278543\ttest: 0.1856402\tbest: 0.1854575 (568)\ttotal: 7.82s\tremaining: 5.19s\n",
            "700:\tlearn: 0.1192015\ttest: 0.1831349\tbest: 0.1828500 (680)\ttotal: 9.31s\tremaining: 3.97s\n",
            "800:\tlearn: 0.1118188\ttest: 0.1802209\tbest: 0.1800609 (796)\ttotal: 11.2s\tremaining: 2.77s\n",
            "900:\tlearn: 0.1058941\ttest: 0.1790968\tbest: 0.1790872 (899)\ttotal: 13s\tremaining: 1.42s\n",
            "999:\tlearn: 0.1019082\ttest: 0.1784612\tbest: 0.1783940 (996)\ttotal: 14.7s\tremaining: 0us\n",
            "\n",
            "bestTest = 0.1783940274\n",
            "bestIteration = 996\n",
            "\n",
            "Shrink model to first 997 iterations.\n",
            "Обучаем регрессор для квантиля 1: 4682 примеров\n",
            "0:\tlearn: 0.2209011\ttest: 0.2220779\tbest: 0.2220779 (0)\ttotal: 24ms\tremaining: 24s\n",
            "100:\tlearn: 0.1624426\ttest: 0.1876516\tbest: 0.1876125 (99)\ttotal: 2.16s\tremaining: 19.3s\n",
            "200:\tlearn: 0.1425202\ttest: 0.1786539\tbest: 0.1786539 (200)\ttotal: 4.97s\tremaining: 19.8s\n",
            "300:\tlearn: 0.1273981\ttest: 0.1720411\tbest: 0.1719961 (293)\ttotal: 6.65s\tremaining: 15.4s\n",
            "400:\tlearn: 0.1148003\ttest: 0.1680874\tbest: 0.1678688 (388)\ttotal: 8.04s\tremaining: 12s\n",
            "500:\tlearn: 0.1068788\ttest: 0.1647614\tbest: 0.1647614 (500)\ttotal: 8.67s\tremaining: 8.64s\n",
            "600:\tlearn: 0.1004366\ttest: 0.1626480\tbest: 0.1625139 (599)\ttotal: 9.32s\tremaining: 6.18s\n",
            "700:\tlearn: 0.0944037\ttest: 0.1608325\tbest: 0.1608055 (698)\ttotal: 9.96s\tremaining: 4.25s\n",
            "800:\tlearn: 0.0887589\ttest: 0.1600170\tbest: 0.1597490 (791)\ttotal: 10.7s\tremaining: 2.65s\n",
            "Stopped by overfitting detector  (50 iterations wait)\n",
            "\n",
            "bestTest = 0.1597489673\n",
            "bestIteration = 791\n",
            "\n",
            "Shrink model to first 792 iterations.\n",
            "Обучаем регрессор для квантиля 2: 5110 примеров\n",
            "0:\tlearn: 0.2844497\ttest: 0.2903030\tbest: 0.2903030 (0)\ttotal: 5.77ms\tremaining: 5.76s\n",
            "100:\tlearn: 0.2115148\ttest: 0.2327076\tbest: 0.2323307 (94)\ttotal: 751ms\tremaining: 6.69s\n",
            "200:\tlearn: 0.1859710\ttest: 0.2185048\tbest: 0.2184593 (197)\ttotal: 1.45s\tremaining: 5.76s\n",
            "300:\tlearn: 0.1685241\ttest: 0.2100161\tbest: 0.2097348 (286)\ttotal: 2.13s\tremaining: 4.93s\n",
            "400:\tlearn: 0.1575652\ttest: 0.2073736\tbest: 0.2070030 (393)\ttotal: 2.79s\tremaining: 4.17s\n",
            "500:\tlearn: 0.1473736\ttest: 0.2038641\tbest: 0.2035501 (488)\ttotal: 3.49s\tremaining: 3.48s\n",
            "Stopped by overfitting detector  (50 iterations wait)\n",
            "\n",
            "bestTest = 0.197997604\n",
            "bestIteration = 549\n",
            "\n",
            "Shrink model to first 550 iterations.\n",
            "Обучаем регрессор для квантиля 3: 4766 примеров\n",
            "0:\tlearn: 0.2414215\ttest: 0.2465594\tbest: 0.2465594 (0)\ttotal: 19.4ms\tremaining: 19.3s\n",
            "100:\tlearn: 0.1918804\ttest: 0.2138321\tbest: 0.2138321 (100)\ttotal: 1.39s\tremaining: 12.4s\n",
            "200:\tlearn: 0.1718803\ttest: 0.2040758\tbest: 0.2038522 (197)\ttotal: 2.77s\tremaining: 11s\n",
            "300:\tlearn: 0.1577794\ttest: 0.1992512\tbest: 0.1992512 (300)\ttotal: 3.71s\tremaining: 8.63s\n",
            "400:\tlearn: 0.1467938\ttest: 0.1971428\tbest: 0.1967998 (397)\ttotal: 4.36s\tremaining: 6.51s\n",
            "500:\tlearn: 0.1369470\ttest: 0.1937746\tbest: 0.1935012 (495)\ttotal: 5.01s\tremaining: 4.99s\n",
            "600:\tlearn: 0.1300414\ttest: 0.1928613\tbest: 0.1925375 (559)\ttotal: 5.67s\tremaining: 3.76s\n",
            "Stopped by overfitting detector  (50 iterations wait)\n",
            "\n",
            "bestTest = 0.1925374715\n",
            "bestIteration = 559\n",
            "\n",
            "Shrink model to first 560 iterations.\n",
            "Обучаем регрессор для квантиля 4: 5089 примеров\n",
            "0:\tlearn: 0.3378740\ttest: 0.3356995\tbest: 0.3356995 (0)\ttotal: 8.76ms\tremaining: 8.75s\n",
            "100:\tlearn: 0.2618826\ttest: 0.2803463\tbest: 0.2803160 (98)\ttotal: 667ms\tremaining: 5.93s\n",
            "200:\tlearn: 0.2331852\ttest: 0.2651912\tbest: 0.2651912 (200)\ttotal: 1.33s\tremaining: 5.3s\n",
            "300:\tlearn: 0.2145949\ttest: 0.2561817\tbest: 0.2559748 (292)\ttotal: 2.02s\tremaining: 4.68s\n",
            "400:\tlearn: 0.2006596\ttest: 0.2505299\tbest: 0.2505299 (400)\ttotal: 2.72s\tremaining: 4.06s\n",
            "500:\tlearn: 0.1896189\ttest: 0.2447374\tbest: 0.2447374 (500)\ttotal: 3.4s\tremaining: 3.39s\n",
            "Stopped by overfitting detector  (50 iterations wait)\n",
            "\n",
            "bestTest = 0.2437361794\n",
            "bestIteration = 529\n",
            "\n",
            "Shrink model to first 530 iterations.\n"
          ]
        }
      ]
    },
    {
      "cell_type": "markdown",
      "source": [
        "Предсказываем непрерывное значение зарплаты и получааем метрики качества модели"
      ],
      "metadata": {
        "id": "M1QboXK6myts"
      }
    },
    {
      "cell_type": "code",
      "source": [
        "def predict_salary(X, y_pred_class):\n",
        "    y_pred_salary = np.zeros_like(y_pred_class, dtype=float)\n",
        "    for quantile in range(len(regressors)):\n",
        "        mask = (y_pred_class == quantile)\n",
        "        if mask.sum() > 0:\n",
        "            y_pred_salary[mask] = regressors[quantile].predict(X[mask])\n",
        "    return y_pred_salary\n",
        "\n",
        "y_train_original = np.exp(y_train_original.values.reshape(-1, 1)).ravel()\n",
        "y_test_original = np.exp(y_test_original.reshape(-1, 1)).ravel()\n",
        "y_val_original = np.exp(y_val_original.values.reshape(-1, 1)).ravel()\n",
        "\n",
        "y_pred_train_salary = predict_salary(X_train, y_pred_train)\n",
        "y_pred_val_salary = predict_salary(X_val, y_pred_val)\n",
        "y_pred_test_salary = predict_salary(X_test, y_pred_test)\n",
        "\n",
        "y_pred_train_salary  = np.exp(y_pred_train_salary.reshape(-1, 1)).ravel()\n",
        "y_pred_test_salary = np.exp(y_pred_test_salary.reshape(-1, 1)).ravel()\n",
        "y_pred_val_salary  = np.exp(y_pred_val_salary.reshape(-1, 1)).ravel()\n",
        "\n",
        "\n",
        "def evaluate_predictions(y_true, y_pred, dataset_name=\"Dataset\"):\n",
        "    print(f\"\\n Оценка качества ({dataset_name}):\")\n",
        "    print(f\" R²:   {r2_score(y_true, y_pred):.4f}\")\n",
        "    print(f\" RMSE: {root_mean_squared_error(y_true, y_pred):.2f}\")\n",
        "    print(f\" MAPE: {mean_absolute_percentage_error(y_true, y_pred) * 100:.2f}%\")\n",
        "\n",
        "evaluate_predictions(y_train_original, y_pred_train_salary, \"Train\")\n",
        "evaluate_predictions(y_val_original, y_pred_val_salary, \"Validation\")\n",
        "evaluate_predictions(y_test_original, y_pred_test_salary, \"Test\")"
      ],
      "metadata": {
        "colab": {
          "base_uri": "https://localhost:8080/"
        },
        "id": "_GXa_FleCMJE",
        "outputId": "5345b71f-5d59-417e-a980-7e4523bed996"
      },
      "execution_count": null,
      "outputs": [
        {
          "output_type": "stream",
          "name": "stdout",
          "text": [
            "\n",
            " Оценка качества (Train):\n",
            " R²:   0.7947\n",
            " RMSE: 25446.88\n",
            " MAPE: 14.03%\n",
            "\n",
            " Оценка качества (Validation):\n",
            " R²:   0.7885\n",
            " RMSE: 26094.63\n",
            " MAPE: 14.12%\n",
            "\n",
            " Оценка качества (Test):\n",
            " R²:   0.7333\n",
            " RMSE: 28234.99\n",
            " MAPE: 16.69%\n"
          ]
        }
      ]
    },
    {
      "cell_type": "markdown",
      "source": [
        "Основные метрики для нас-это R² и MAPE. Показатель MAPE получился хорошим, учитывая, что изначально при небольших изменениях датасета модель показывала показатель MAPE = 50%+ по всем выборкам, R² показывает удовлетворительные значения. RMSE показывает, что на соответствующих выборках модель ошибается в среднем на данные значения"
      ],
      "metadata": {
        "id": "PtHN7_DWmgJh"
      }
    },
    {
      "cell_type": "code",
      "source": [
        "!pip install catboost"
      ],
      "metadata": {
        "colab": {
          "base_uri": "https://localhost:8080/"
        },
        "id": "Jpxn-ZcHrz38",
        "outputId": "98c2ff07-ba34-4e37-d6d8-1662ab187a13"
      },
      "execution_count": null,
      "outputs": [
        {
          "output_type": "stream",
          "name": "stdout",
          "text": [
            "Collecting catboost\n",
            "  Downloading catboost-1.2.7-cp311-cp311-manylinux2014_x86_64.whl.metadata (1.2 kB)\n",
            "Requirement already satisfied: graphviz in /usr/local/lib/python3.11/dist-packages (from catboost) (0.20.3)\n",
            "Requirement already satisfied: matplotlib in /usr/local/lib/python3.11/dist-packages (from catboost) (3.10.0)\n",
            "Collecting numpy<2.0,>=1.16.0 (from catboost)\n",
            "  Downloading numpy-1.26.4-cp311-cp311-manylinux_2_17_x86_64.manylinux2014_x86_64.whl.metadata (61 kB)\n",
            "\u001b[2K     \u001b[90m━━━━━━━━━━━━━━━━━━━━━━━━━━━━━━━━━━━━━━━━\u001b[0m \u001b[32m61.0/61.0 kB\u001b[0m \u001b[31m2.4 MB/s\u001b[0m eta \u001b[36m0:00:00\u001b[0m\n",
            "\u001b[?25hRequirement already satisfied: pandas>=0.24 in /usr/local/lib/python3.11/dist-packages (from catboost) (2.2.2)\n",
            "Requirement already satisfied: scipy in /usr/local/lib/python3.11/dist-packages (from catboost) (1.14.1)\n",
            "Requirement already satisfied: plotly in /usr/local/lib/python3.11/dist-packages (from catboost) (5.24.1)\n",
            "Requirement already satisfied: six in /usr/local/lib/python3.11/dist-packages (from catboost) (1.17.0)\n",
            "Requirement already satisfied: python-dateutil>=2.8.2 in /usr/local/lib/python3.11/dist-packages (from pandas>=0.24->catboost) (2.8.2)\n",
            "Requirement already satisfied: pytz>=2020.1 in /usr/local/lib/python3.11/dist-packages (from pandas>=0.24->catboost) (2025.1)\n",
            "Requirement already satisfied: tzdata>=2022.7 in /usr/local/lib/python3.11/dist-packages (from pandas>=0.24->catboost) (2025.1)\n",
            "Requirement already satisfied: contourpy>=1.0.1 in /usr/local/lib/python3.11/dist-packages (from matplotlib->catboost) (1.3.1)\n",
            "Requirement already satisfied: cycler>=0.10 in /usr/local/lib/python3.11/dist-packages (from matplotlib->catboost) (0.12.1)\n",
            "Requirement already satisfied: fonttools>=4.22.0 in /usr/local/lib/python3.11/dist-packages (from matplotlib->catboost) (4.56.0)\n",
            "Requirement already satisfied: kiwisolver>=1.3.1 in /usr/local/lib/python3.11/dist-packages (from matplotlib->catboost) (1.4.8)\n",
            "Requirement already satisfied: packaging>=20.0 in /usr/local/lib/python3.11/dist-packages (from matplotlib->catboost) (24.2)\n",
            "Requirement already satisfied: pillow>=8 in /usr/local/lib/python3.11/dist-packages (from matplotlib->catboost) (11.1.0)\n",
            "Requirement already satisfied: pyparsing>=2.3.1 in /usr/local/lib/python3.11/dist-packages (from matplotlib->catboost) (3.2.1)\n",
            "Requirement already satisfied: tenacity>=6.2.0 in /usr/local/lib/python3.11/dist-packages (from plotly->catboost) (9.0.0)\n",
            "Downloading catboost-1.2.7-cp311-cp311-manylinux2014_x86_64.whl (98.7 MB)\n",
            "\u001b[2K   \u001b[90m━━━━━━━━━━━━━━━━━━━━━━━━━━━━━━━━━━━━━━━━\u001b[0m \u001b[32m98.7/98.7 MB\u001b[0m \u001b[31m5.2 MB/s\u001b[0m eta \u001b[36m0:00:00\u001b[0m\n",
            "\u001b[?25hDownloading numpy-1.26.4-cp311-cp311-manylinux_2_17_x86_64.manylinux2014_x86_64.whl (18.3 MB)\n",
            "\u001b[2K   \u001b[90m━━━━━━━━━━━━━━━━━━━━━━━━━━━━━━━━━━━━━━━━\u001b[0m \u001b[32m18.3/18.3 MB\u001b[0m \u001b[31m80.0 MB/s\u001b[0m eta \u001b[36m0:00:00\u001b[0m\n",
            "\u001b[?25hInstalling collected packages: numpy, catboost\n",
            "  Attempting uninstall: numpy\n",
            "    Found existing installation: numpy 2.0.2\n",
            "    Uninstalling numpy-2.0.2:\n",
            "      Successfully uninstalled numpy-2.0.2\n",
            "Successfully installed catboost-1.2.7 numpy-1.26.4\n"
          ]
        }
      ]
    },
    {
      "cell_type": "code",
      "source": [
        "pip install --upgrade --force-reinstall pip setuptools wheel"
      ],
      "metadata": {
        "colab": {
          "base_uri": "https://localhost:8080/",
          "height": 616
        },
        "id": "rMrsNTvuruYp",
        "outputId": "2777268b-8d13-4748-cafe-1d2b036e114c"
      },
      "execution_count": null,
      "outputs": [
        {
          "output_type": "stream",
          "name": "stdout",
          "text": [
            "Collecting pip\n",
            "  Downloading pip-25.0.1-py3-none-any.whl.metadata (3.7 kB)\n",
            "Collecting setuptools\n",
            "  Downloading setuptools-78.1.0-py3-none-any.whl.metadata (6.6 kB)\n",
            "Collecting wheel\n",
            "  Downloading wheel-0.45.1-py3-none-any.whl.metadata (2.3 kB)\n",
            "Downloading pip-25.0.1-py3-none-any.whl (1.8 MB)\n",
            "\u001b[2K   \u001b[90m━━━━━━━━━━━━━━━━━━━━━━━━━━━━━━━━━━━━━━━━\u001b[0m \u001b[32m1.8/1.8 MB\u001b[0m \u001b[31m16.9 MB/s\u001b[0m eta \u001b[36m0:00:00\u001b[0m\n",
            "\u001b[?25hDownloading setuptools-78.1.0-py3-none-any.whl (1.3 MB)\n",
            "\u001b[2K   \u001b[90m━━━━━━━━━━━━━━━━━━━━━━━━━━━━━━━━━━━━━━━━\u001b[0m \u001b[32m1.3/1.3 MB\u001b[0m \u001b[31m43.5 MB/s\u001b[0m eta \u001b[36m0:00:00\u001b[0m\n",
            "\u001b[?25hDownloading wheel-0.45.1-py3-none-any.whl (72 kB)\n",
            "\u001b[2K   \u001b[90m━━━━━━━━━━━━━━━━━━━━━━━━━━━━━━━━━━━━━━━━\u001b[0m \u001b[32m72.5/72.5 kB\u001b[0m \u001b[31m4.7 MB/s\u001b[0m eta \u001b[36m0:00:00\u001b[0m\n",
            "\u001b[?25hInstalling collected packages: wheel, setuptools, pip\n",
            "  Attempting uninstall: wheel\n",
            "    Found existing installation: wheel 0.45.1\n",
            "    Uninstalling wheel-0.45.1:\n",
            "      Successfully uninstalled wheel-0.45.1\n",
            "  Attempting uninstall: setuptools\n",
            "    Found existing installation: setuptools 75.1.0\n",
            "    Uninstalling setuptools-75.1.0:\n",
            "      Successfully uninstalled setuptools-75.1.0\n",
            "  Attempting uninstall: pip\n",
            "    Found existing installation: pip 24.1.2\n",
            "    Uninstalling pip-24.1.2:\n",
            "      Successfully uninstalled pip-24.1.2\n",
            "\u001b[31mERROR: pip's dependency resolver does not currently take into account all the packages that are installed. This behaviour is the source of the following dependency conflicts.\n",
            "ipython 7.34.0 requires jedi>=0.16, which is not installed.\u001b[0m\u001b[31m\n",
            "\u001b[0mSuccessfully installed pip-25.0.1 setuptools-78.1.0 wheel-0.45.1\n"
          ]
        },
        {
          "output_type": "display_data",
          "data": {
            "application/vnd.colab-display-data+json": {
              "pip_warning": {
                "packages": [
                  "_distutils_hack"
                ]
              },
              "id": "962b4a68f53a4adab0db7b9f41c038fa"
            }
          },
          "metadata": {}
        }
      ]
    },
    {
      "cell_type": "markdown",
      "source": [
        "Итоговый класс с сохранением тестовой выборки"
      ],
      "metadata": {
        "id": "BQNiXOboMed9"
      }
    },
    {
      "cell_type": "code",
      "source": [
        "import numpy as np\n",
        "import pandas as pd\n",
        "import os\n",
        "import pickle\n",
        "import matplotlib.pyplot as plt\n",
        "from sklearn.model_selection import train_test_split\n",
        "from sklearn.preprocessing import StandardScaler\n",
        "import sklearn.preprocessing as preprocessing\n",
        "import seaborn as sns\n",
        "from sklearn.preprocessing import TargetEncoder\n",
        "import sklearn\n",
        "from catboost import CatBoostClassifier\n",
        "from sklearn.metrics import root_mean_squared_error\n",
        "from sklearn.metrics import accuracy_score\n",
        "from sklearn.metrics import f1_score\n",
        "from sklearn.metrics import roc_auc_score\n",
        "from sklearn.preprocessing import label_binarize\n",
        "from sklearn.metrics import confusion_matrix\n",
        "import plotly.graph_objs as go\n",
        "from catboost import CatBoostRegressor\n",
        "from sklearn.metrics import r2_score, mean_squared_error, mean_absolute_percentage_error\n",
        "class SalaryPredictor:\n",
        "\n",
        "    def __init__(self):\n",
        "        self.cat_features = ['premium', 'has_test', 'response_letter_required', 'archived', 'schedule', 'accept_temporary', 'accept_incomplete_resumes',\n",
        "                'experience', 'employment', 'is_adv_vacancy' ,'employer_trusted', 'employer_type', 'metro_feature', 'has_email', 'industry', 'AO', 'exp_loc_category']\n",
        "        self.cbс = CatBoostClassifier(\n",
        "            n_estimators=2000,\n",
        "            learning_rate=1,\n",
        "            max_depth=5,\n",
        "            cat_features=self.cat_features,\n",
        "            random_state=42,\n",
        "            eval_metric='MultiClass',\n",
        "            loss_function='MultiClass',\n",
        "            early_stopping_rounds=50,\n",
        "            verbose=100\n",
        "        )\n",
        "        self.regressors = {}\n",
        "        self.encoder_dict = {}\n",
        "        self.target_encoder = TargetEncoder(categories = 'auto', smooth='auto')\n",
        "\n",
        "    def save_model(self, filename=\"salary_model.pkl\"):\n",
        "        with open(filename, \"wb\") as f:\n",
        "            pickle.dump(self, f)\n",
        "        print(f\"Модель сохранена в {filename}\")\n",
        "\n",
        "    @classmethod\n",
        "    def load_model(cls, filename=\"salary_model.pkl\"):\n",
        "        with open(filename, \"rb\") as f:\n",
        "            instance = pickle.load(f)\n",
        "        print(f\"Модель загружена из {filename}\")\n",
        "        return instance\n",
        "\n",
        "    def preprocess(self, data):\n",
        "\n",
        "            data = data.drop(data[data['salary'] > 800000].index.to_list(), axis = 0)\n",
        "            #FEATURE ENGINERING\n",
        "\n",
        "            #stations_within_km, distance_to_the_nearest(m) \tобъедияем\n",
        "            data['metro_feature'] = 'Никаких станций нет'\n",
        "\n",
        "            data.loc[data['distance_to_the_nearest(m)'] > 1000, 'metro_feature'] = 'Станция далеко, но есть'\n",
        "\n",
        "            data.loc[data['stations_within_km'] > 0, 'metro_feature'] = 'Станция рядом есть'\n",
        "\n",
        "            #полная/неполная занятость:\n",
        "            data.loc[data[\"employment\"] != \"Полная занятость\", \"employment\"] = \"Не полная занятость\"\n",
        "\n",
        "            #работодатель:\n",
        "            data.loc[data[\"employer_type\"] != \"company\", \"employer_type\"] = \"not a company\"\n",
        "\n",
        "            #добавляю категорию включающую опыт+локацию:\n",
        "            moscow_regions = ['свао', 'вао', 'цао', 'юзао', 'сзао', 'сао', 'ювао', 'новомосковский', 'зао', 'юао', 'троицкий', 'зелао']\n",
        "            data['AO_loc'] = data['AO'].apply(\n",
        "                lambda x: 'Москва' if x in moscow_regions else 'Не в Москве'\n",
        "            )\n",
        "\n",
        "            exp_values = data['experience'].unique()\n",
        "\n",
        "            exp_categories = {exp_value: i+1 for i, exp_value in enumerate(exp_values)}\n",
        "\n",
        "            data['exp_cat'] = data['experience'].map(exp_categories)\n",
        "\n",
        "            ao_rules = {\n",
        "                ('Москва', 1): 1,\n",
        "                ('Москва', 2): 2,\n",
        "                ('Москва', 3): 3,\n",
        "                ('Москва', 4): 4,\n",
        "                ('Не в Москве', 1): 5,\n",
        "                ('Не в Москве', 2): 6,\n",
        "                ('Не в Москве', 3): 7,\n",
        "                ('Не в Москве', 4): 8\n",
        "            }\n",
        "\n",
        "            #создадим новую колонку с финальной категорией\n",
        "            data['exp_loc_category'] = data.apply(lambda row: ao_rules[(row['AO_loc'], row['exp_cat'])], axis=1)\n",
        "            #дропаем ненужные фичи\n",
        "            data = data.drop(['lat','lon','stations_within_km', 'distance_to_the_nearest(m)', 'vacancy_type', 'exp_cat', 'AO_loc'], axis = 1)\n",
        "            data = data.dropna()\n",
        "\n",
        "            #нижний регистр\n",
        "            data['schedule'] = data['schedule'].astype(str).str.lower()\n",
        "            data['professional_roles'] = data['professional_roles'].astype(str).str.lower()\n",
        "            data['experience'] = data['experience'].astype(str).str.lower()\n",
        "            data['employment'] = data['employment'].astype(str).str.lower()\n",
        "            data['industry'] = data['industry'].astype(str).str.lower()\n",
        "            data['AO'] = data['AO'].astype(str).str.lower()\n",
        "\n",
        "            #разделение данных\n",
        "            X = data.drop('salary', axis = 1)\n",
        "            y = data['salary']\n",
        "            X_train, X_test, y_train, y_test = train_test_split(X, y, test_size=0.2, shuffle=True, random_state=42)\n",
        "            X_val, X_test, y_val, y_test = train_test_split(X, y, test_size=0.5, shuffle=True, random_state=42)\n",
        "\n",
        "\n",
        "            #label encoder\n",
        "            encoder_dict = {}\n",
        "            for col in cat_features:\n",
        "                encoder_dict[col] = preprocessing.LabelEncoder().fit(X_train[[col]])\n",
        "                X_train[col] = encoder_dict[col].transform(X_train[[col]])\n",
        "                X_test[col] = encoder_dict[col].transform(X_test[[col]])\n",
        "                X_val[col] = encoder_dict[col].transform(X_val[[col]])\n",
        "\n",
        "\n",
        "\n",
        "            encoder = TargetEncoder(categories = 'auto', smooth='auto')\n",
        "            # Применение TargetEncoder\n",
        "            X_train['professional_roles'] = X_train['professional_roles'].astype(str)\n",
        "            X_test['professional_roles'] = X_test['professional_roles'].astype(str)\n",
        "\n",
        "            encoder.fit(X_train[['professional_roles']], y_train)\n",
        "            X_train['professional_roles'] = encoder.transform(X_train[['professional_roles']])\n",
        "            X_test['professional_roles'] = encoder.transform(X_test[['professional_roles']])\n",
        "            X_val['professional_roles'] = encoder.transform(X_val[['professional_roles']])\n",
        "\n",
        "\n",
        "            scaler = preprocessing.StandardScaler().fit(X_train[['professional_roles']])\n",
        "            X_train['professional_roles'] = scaler.transform(X_train[['professional_roles']])\n",
        "            X_test['professional_roles'] = scaler.transform(X_test[['professional_roles']])\n",
        "            X_val['professional_roles'] = scaler.transform(X_val[['professional_roles']])\n",
        "\n",
        "            y_train = np.log(y_train.values.reshape(-1, 1)).flatten()\n",
        "            y_test = np.log(y_test.values.reshape(-1, 1)).flatten()\n",
        "            y_val = np.log(y_val.values.reshape(-1, 1)).flatten()\n",
        "\n",
        "            y_train_original = y_train.copy()\n",
        "            y_test_original = y_test.copy()\n",
        "            y_val_original = y_val.copy()\n",
        "\n",
        "            _, bins = pd.qcut(y_train, q=5, retbins=True, labels=False)\n",
        "\n",
        "            y_train = pd.cut(y_train, bins=bins, labels=False, include_lowest=True)\n",
        "            y_test = pd.cut(y_test, bins=bins, labels=False, include_lowest=True)\n",
        "            y_val = pd.cut(y_val, bins=bins, labels=False, include_lowest=True)\n",
        "\n",
        "            def type_converter(self, X):\n",
        "                for i in cat_features:\n",
        "                    X[i] = X[i].astype('category')\n",
        "                return X\n",
        "            X_train = type_converter(self, X_train)\n",
        "            X_test = type_converter(self, X_test)\n",
        "            X_val = type_converter(self, X_val)\n",
        "\n",
        "            return X_train, X_test, X_val, y_train, y_test, y_val, y_train_original, y_test_original, y_val_original\n",
        "\n",
        "    def fit(self, X_train, X_test, X_val, y_train, y_test, y_val, y_train_original, y_test_original, y_val_original):\n",
        "\n",
        "        self.cbс.fit(X_train, y_train, eval_set=(X_val, y_val))\n",
        "\n",
        "        y_pred_train = self.cbс.predict(X_train)\n",
        "        y_pred_val = self.cbс.predict(X_val)\n",
        "\n",
        "        y_train_original = pd.Series(y_train_original)\n",
        "        y_val_original = pd.Series(y_val_original)\n",
        "\n",
        "        for quantile in range(5):\n",
        "            mask_train = (y_pred_train == quantile)\n",
        "            mask_val = (y_pred_val == quantile)\n",
        "\n",
        "            mask_train = np.asarray(mask_train, dtype=bool).ravel()\n",
        "            mask_val = np.asarray(mask_val, dtype=bool).ravel()\n",
        "\n",
        "            X_train_q = X_train.loc[mask_train]\n",
        "            y_train_q = y_train_original.loc[mask_train]\n",
        "\n",
        "            X_val_q = X_val.loc[mask_val]\n",
        "            y_val_q = y_val_original.loc[mask_val]\n",
        "\n",
        "            print(f\"Обучаем регрессор для квантиля {quantile}: {len(X_train_q)} примеров\")\n",
        "\n",
        "            reg = CatBoostRegressor(\n",
        "                n_estimators=1000,\n",
        "                learning_rate=1,\n",
        "                max_depth=5,\n",
        "                cat_features=self.cat_features,\n",
        "                random_state=42,\n",
        "                loss_function='RMSE',\n",
        "                early_stopping_rounds=50,\n",
        "                verbose=100\n",
        "            )\n",
        "\n",
        "            reg.fit(X_train_q, y_train_q, eval_set=(X_val_q, y_val_q))\n",
        "            self.regressors[quantile] = reg\n",
        "\n",
        "    def predict(self, X, save_path=None):\n",
        "\n",
        "        y_pred_class = self.cbс.predict(X)\n",
        "\n",
        "        y_pred_salary = np.zeros_like(y_pred_class, dtype=float)\n",
        "\n",
        "        for quantile in range(len(self.regressors)):\n",
        "            mask = (y_pred_class == quantile)\n",
        "            if mask.sum() > 0:\n",
        "                y_pred_salary[mask] = self.regressors[quantile].predict(X[mask])\n",
        "\n",
        "        y_pred_salary = np.exp(y_pred_salary)\n",
        "\n",
        "        if save_path:\n",
        "            pd.DataFrame(y_pred_salary, columns=[\"Predicted Salary\"]).to_csv(save_path, index=False)\n",
        "            print(f\"Предсказания сохранены в {save_path}\")\n",
        "\n",
        "        return y_pred_salary\n",
        "\n",
        "\n",
        "    def evaluate(self, X_train, X_val, X_test, y_train_original, y_val_original, y_test_original):\n",
        "        y_pred_train_salary = self.predict(X_train)\n",
        "        y_pred_val_salary = self.predict(X_val)\n",
        "        y_pred_test_salary = self.predict(X_test, save_path=\"predictions_test.csv\")\n",
        "\n",
        "        y_train_original = np.exp(y_train_original.reshape(-1, 1)).ravel()\n",
        "        y_val_original = np.exp(y_val_original.reshape(-1, 1)).ravel()\n",
        "        y_test_original = np.exp(y_test_original.reshape(-1, 1)).ravel()\n",
        "\n",
        "        self.evaluate_predictions(y_train_original, y_pred_train_salary, \"Train\")\n",
        "        self.evaluate_predictions(y_val_original, y_pred_val_salary, \"Validation\")\n",
        "        self.evaluate_predictions(y_test_original, y_pred_test_salary, \"Test\")\n",
        "\n",
        "    @staticmethod\n",
        "    def evaluate_predictions(y_true, y_pred, dataset_name=\"Dataset\"):\n",
        "        print(f\"\\nОценка качества ({dataset_name}):\")\n",
        "        print(f\"R²:   {r2_score(y_true, y_pred):.4f}\")\n",
        "        print(f\"RMSE: {root_mean_squared_error(y_true, y_pred):.2f}\")\n",
        "        print(f\"MAPE: {mean_absolute_percentage_error(y_true, y_pred) * 100:.2f}%\")\n",
        "\n",
        "\n",
        "data = pd.read_csv('/content/drive/MyDrive/Datasets/vacancies.csv')\n",
        "cat_features = ['premium', 'has_test', 'response_letter_required', 'archived', 'schedule', 'accept_temporary', 'accept_incomplete_resumes',\n",
        "                'experience', 'employment', 'is_adv_vacancy' ,'employer_trusted', 'employer_type', 'metro_feature', 'has_email', 'industry', 'AO', 'exp_loc_category']\n",
        "\n",
        "model = SalaryPredictor()\n",
        "\n",
        "X_train, X_test, X_val, y_train, y_test, y_val, y_train_original, y_test_original, y_val_original = model.preprocess(data)\n",
        "\n",
        "model.fit(X_train, X_test, X_val, y_train, y_test, y_val, y_train_original, y_test_original, y_val_original)\n",
        "\n",
        "# Сохранение обученной модели\n",
        "model.save_model(\"salary_model.pkl\")\n",
        "\n",
        "loaded_model = SalaryPredictor.load_model(\"salary_model.pkl\")\n",
        "\n",
        "# Использование загруженной модели для предсказаний\n",
        "y_pred_test_salary = loaded_model.predict(X_test, save_path=\"predictions_test.csv\")\n",
        "\n",
        "# Предсказания для датасета\n",
        "model.evaluate(X_train, X_val, X_test, y_train_original, y_val_original, y_test_original)"
      ],
      "metadata": {
        "colab": {
          "base_uri": "https://localhost:8080/"
        },
        "id": "2vMVMNu1CZWU",
        "outputId": "ec0b8ca4-df89-4909-96b6-bda3aa2bd28c"
      },
      "execution_count": null,
      "outputs": [
        {
          "output_type": "stream",
          "name": "stdout",
          "text": [
            "Предсказания сохранены в predictions_test.csv\n",
            "Предсказания сохранены в predictions_test.csv\n",
            "\n",
            "Оценка качества (Train):\n",
            "R²:   0.7947\n",
            "RMSE: 25446.88\n",
            "MAPE: 14.03%\n",
            "\n",
            "Оценка качества (Validation):\n",
            "R²:   0.7885\n",
            "RMSE: 26094.63\n",
            "MAPE: 14.12%\n",
            "\n",
            "Оценка качества (Test):\n",
            "R²:   0.7333\n",
            "RMSE: 28234.99\n",
            "MAPE: 16.69%\n"
          ]
        }
      ]
    },
    {
      "cell_type": "code",
      "source": [
        "model_path = \"/content/salary_model.pkl\""
      ],
      "metadata": {
        "id": "szmxMFXkghlf"
      },
      "execution_count": null,
      "outputs": []
    },
    {
      "cell_type": "code",
      "source": [
        "import pickle\n",
        "\n",
        "# Функция для загрузки модели\n",
        "def load_model(model_path):\n",
        "    with open(model_path, \"rb\") as f:\n",
        "        return pickle.load(f)\n",
        "\n",
        "# Загрузка модели\n",
        "model = load_model(model_path)"
      ],
      "metadata": {
        "id": "jkCMLHxAglFc"
      },
      "execution_count": null,
      "outputs": []
    },
    {
      "cell_type": "code",
      "source": [
        "data_path = '/content/drive/MyDrive/Datasets/vacancies.csv' # Укажи путь к файлу\n",
        "data = pd.read_csv(data_path)"
      ],
      "metadata": {
        "id": "cB9pIL1cgnQM"
      },
      "execution_count": null,
      "outputs": []
    },
    {
      "cell_type": "code",
      "source": [
        "X_test_1 = model.preprocess(data)[1]"
      ],
      "metadata": {
        "colab": {
          "base_uri": "https://localhost:8080/"
        },
        "id": "vmeGkHPGgowa",
        "outputId": "31eee19a-1887-4a0e-bd52-21ccd0b455d1"
      },
      "execution_count": null,
      "outputs": [
        {
          "output_type": "stream",
          "name": "stderr",
          "text": [
            "/usr/local/lib/python3.11/dist-packages/sklearn/preprocessing/_label.py:93: DataConversionWarning: A column-vector y was passed when a 1d array was expected. Please change the shape of y to (n_samples, ), for example using ravel().\n",
            "  y = column_or_1d(y, warn=True)\n",
            "/usr/local/lib/python3.11/dist-packages/sklearn/preprocessing/_label.py:129: DataConversionWarning: A column-vector y was passed when a 1d array was expected. Please change the shape of y to (n_samples, ), for example using ravel().\n",
            "  y = column_or_1d(y, dtype=self.classes_.dtype, warn=True)\n",
            "/usr/local/lib/python3.11/dist-packages/sklearn/preprocessing/_label.py:129: DataConversionWarning: A column-vector y was passed when a 1d array was expected. Please change the shape of y to (n_samples, ), for example using ravel().\n",
            "  y = column_or_1d(y, dtype=self.classes_.dtype, warn=True)\n",
            "/usr/local/lib/python3.11/dist-packages/sklearn/preprocessing/_label.py:129: DataConversionWarning: A column-vector y was passed when a 1d array was expected. Please change the shape of y to (n_samples, ), for example using ravel().\n",
            "  y = column_or_1d(y, dtype=self.classes_.dtype, warn=True)\n",
            "/usr/local/lib/python3.11/dist-packages/sklearn/preprocessing/_label.py:93: DataConversionWarning: A column-vector y was passed when a 1d array was expected. Please change the shape of y to (n_samples, ), for example using ravel().\n",
            "  y = column_or_1d(y, warn=True)\n",
            "/usr/local/lib/python3.11/dist-packages/sklearn/preprocessing/_label.py:129: DataConversionWarning: A column-vector y was passed when a 1d array was expected. Please change the shape of y to (n_samples, ), for example using ravel().\n",
            "  y = column_or_1d(y, dtype=self.classes_.dtype, warn=True)\n",
            "/usr/local/lib/python3.11/dist-packages/sklearn/preprocessing/_label.py:129: DataConversionWarning: A column-vector y was passed when a 1d array was expected. Please change the shape of y to (n_samples, ), for example using ravel().\n",
            "  y = column_or_1d(y, dtype=self.classes_.dtype, warn=True)\n",
            "/usr/local/lib/python3.11/dist-packages/sklearn/preprocessing/_label.py:129: DataConversionWarning: A column-vector y was passed when a 1d array was expected. Please change the shape of y to (n_samples, ), for example using ravel().\n",
            "  y = column_or_1d(y, dtype=self.classes_.dtype, warn=True)\n",
            "/usr/local/lib/python3.11/dist-packages/sklearn/preprocessing/_label.py:93: DataConversionWarning: A column-vector y was passed when a 1d array was expected. Please change the shape of y to (n_samples, ), for example using ravel().\n",
            "  y = column_or_1d(y, warn=True)\n",
            "/usr/local/lib/python3.11/dist-packages/sklearn/preprocessing/_label.py:129: DataConversionWarning: A column-vector y was passed when a 1d array was expected. Please change the shape of y to (n_samples, ), for example using ravel().\n",
            "  y = column_or_1d(y, dtype=self.classes_.dtype, warn=True)\n",
            "/usr/local/lib/python3.11/dist-packages/sklearn/preprocessing/_label.py:129: DataConversionWarning: A column-vector y was passed when a 1d array was expected. Please change the shape of y to (n_samples, ), for example using ravel().\n",
            "  y = column_or_1d(y, dtype=self.classes_.dtype, warn=True)\n",
            "/usr/local/lib/python3.11/dist-packages/sklearn/preprocessing/_label.py:129: DataConversionWarning: A column-vector y was passed when a 1d array was expected. Please change the shape of y to (n_samples, ), for example using ravel().\n",
            "  y = column_or_1d(y, dtype=self.classes_.dtype, warn=True)\n",
            "/usr/local/lib/python3.11/dist-packages/sklearn/preprocessing/_label.py:93: DataConversionWarning: A column-vector y was passed when a 1d array was expected. Please change the shape of y to (n_samples, ), for example using ravel().\n",
            "  y = column_or_1d(y, warn=True)\n",
            "/usr/local/lib/python3.11/dist-packages/sklearn/preprocessing/_label.py:129: DataConversionWarning: A column-vector y was passed when a 1d array was expected. Please change the shape of y to (n_samples, ), for example using ravel().\n",
            "  y = column_or_1d(y, dtype=self.classes_.dtype, warn=True)\n",
            "/usr/local/lib/python3.11/dist-packages/sklearn/preprocessing/_label.py:129: DataConversionWarning: A column-vector y was passed when a 1d array was expected. Please change the shape of y to (n_samples, ), for example using ravel().\n",
            "  y = column_or_1d(y, dtype=self.classes_.dtype, warn=True)\n",
            "/usr/local/lib/python3.11/dist-packages/sklearn/preprocessing/_label.py:129: DataConversionWarning: A column-vector y was passed when a 1d array was expected. Please change the shape of y to (n_samples, ), for example using ravel().\n",
            "  y = column_or_1d(y, dtype=self.classes_.dtype, warn=True)\n",
            "/usr/local/lib/python3.11/dist-packages/sklearn/preprocessing/_label.py:93: DataConversionWarning: A column-vector y was passed when a 1d array was expected. Please change the shape of y to (n_samples, ), for example using ravel().\n",
            "  y = column_or_1d(y, warn=True)\n",
            "/usr/local/lib/python3.11/dist-packages/sklearn/preprocessing/_label.py:129: DataConversionWarning: A column-vector y was passed when a 1d array was expected. Please change the shape of y to (n_samples, ), for example using ravel().\n",
            "  y = column_or_1d(y, dtype=self.classes_.dtype, warn=True)\n",
            "/usr/local/lib/python3.11/dist-packages/sklearn/preprocessing/_label.py:129: DataConversionWarning: A column-vector y was passed when a 1d array was expected. Please change the shape of y to (n_samples, ), for example using ravel().\n",
            "  y = column_or_1d(y, dtype=self.classes_.dtype, warn=True)\n",
            "/usr/local/lib/python3.11/dist-packages/sklearn/preprocessing/_label.py:129: DataConversionWarning: A column-vector y was passed when a 1d array was expected. Please change the shape of y to (n_samples, ), for example using ravel().\n",
            "  y = column_or_1d(y, dtype=self.classes_.dtype, warn=True)\n",
            "/usr/local/lib/python3.11/dist-packages/sklearn/preprocessing/_label.py:93: DataConversionWarning: A column-vector y was passed when a 1d array was expected. Please change the shape of y to (n_samples, ), for example using ravel().\n",
            "  y = column_or_1d(y, warn=True)\n",
            "/usr/local/lib/python3.11/dist-packages/sklearn/preprocessing/_label.py:129: DataConversionWarning: A column-vector y was passed when a 1d array was expected. Please change the shape of y to (n_samples, ), for example using ravel().\n",
            "  y = column_or_1d(y, dtype=self.classes_.dtype, warn=True)\n",
            "/usr/local/lib/python3.11/dist-packages/sklearn/preprocessing/_label.py:129: DataConversionWarning: A column-vector y was passed when a 1d array was expected. Please change the shape of y to (n_samples, ), for example using ravel().\n",
            "  y = column_or_1d(y, dtype=self.classes_.dtype, warn=True)\n",
            "/usr/local/lib/python3.11/dist-packages/sklearn/preprocessing/_label.py:129: DataConversionWarning: A column-vector y was passed when a 1d array was expected. Please change the shape of y to (n_samples, ), for example using ravel().\n",
            "  y = column_or_1d(y, dtype=self.classes_.dtype, warn=True)\n",
            "/usr/local/lib/python3.11/dist-packages/sklearn/preprocessing/_label.py:93: DataConversionWarning: A column-vector y was passed when a 1d array was expected. Please change the shape of y to (n_samples, ), for example using ravel().\n",
            "  y = column_or_1d(y, warn=True)\n",
            "/usr/local/lib/python3.11/dist-packages/sklearn/preprocessing/_label.py:129: DataConversionWarning: A column-vector y was passed when a 1d array was expected. Please change the shape of y to (n_samples, ), for example using ravel().\n",
            "  y = column_or_1d(y, dtype=self.classes_.dtype, warn=True)\n",
            "/usr/local/lib/python3.11/dist-packages/sklearn/preprocessing/_label.py:129: DataConversionWarning: A column-vector y was passed when a 1d array was expected. Please change the shape of y to (n_samples, ), for example using ravel().\n",
            "  y = column_or_1d(y, dtype=self.classes_.dtype, warn=True)\n",
            "/usr/local/lib/python3.11/dist-packages/sklearn/preprocessing/_label.py:129: DataConversionWarning: A column-vector y was passed when a 1d array was expected. Please change the shape of y to (n_samples, ), for example using ravel().\n",
            "  y = column_or_1d(y, dtype=self.classes_.dtype, warn=True)\n",
            "/usr/local/lib/python3.11/dist-packages/sklearn/preprocessing/_label.py:93: DataConversionWarning: A column-vector y was passed when a 1d array was expected. Please change the shape of y to (n_samples, ), for example using ravel().\n",
            "  y = column_or_1d(y, warn=True)\n",
            "/usr/local/lib/python3.11/dist-packages/sklearn/preprocessing/_label.py:129: DataConversionWarning: A column-vector y was passed when a 1d array was expected. Please change the shape of y to (n_samples, ), for example using ravel().\n",
            "  y = column_or_1d(y, dtype=self.classes_.dtype, warn=True)\n",
            "/usr/local/lib/python3.11/dist-packages/sklearn/preprocessing/_label.py:129: DataConversionWarning: A column-vector y was passed when a 1d array was expected. Please change the shape of y to (n_samples, ), for example using ravel().\n",
            "  y = column_or_1d(y, dtype=self.classes_.dtype, warn=True)\n",
            "/usr/local/lib/python3.11/dist-packages/sklearn/preprocessing/_label.py:129: DataConversionWarning: A column-vector y was passed when a 1d array was expected. Please change the shape of y to (n_samples, ), for example using ravel().\n",
            "  y = column_or_1d(y, dtype=self.classes_.dtype, warn=True)\n",
            "/usr/local/lib/python3.11/dist-packages/sklearn/preprocessing/_label.py:93: DataConversionWarning: A column-vector y was passed when a 1d array was expected. Please change the shape of y to (n_samples, ), for example using ravel().\n",
            "  y = column_or_1d(y, warn=True)\n",
            "/usr/local/lib/python3.11/dist-packages/sklearn/preprocessing/_label.py:129: DataConversionWarning: A column-vector y was passed when a 1d array was expected. Please change the shape of y to (n_samples, ), for example using ravel().\n",
            "  y = column_or_1d(y, dtype=self.classes_.dtype, warn=True)\n",
            "/usr/local/lib/python3.11/dist-packages/sklearn/preprocessing/_label.py:129: DataConversionWarning: A column-vector y was passed when a 1d array was expected. Please change the shape of y to (n_samples, ), for example using ravel().\n",
            "  y = column_or_1d(y, dtype=self.classes_.dtype, warn=True)\n",
            "/usr/local/lib/python3.11/dist-packages/sklearn/preprocessing/_label.py:129: DataConversionWarning: A column-vector y was passed when a 1d array was expected. Please change the shape of y to (n_samples, ), for example using ravel().\n",
            "  y = column_or_1d(y, dtype=self.classes_.dtype, warn=True)\n",
            "/usr/local/lib/python3.11/dist-packages/sklearn/preprocessing/_label.py:93: DataConversionWarning: A column-vector y was passed when a 1d array was expected. Please change the shape of y to (n_samples, ), for example using ravel().\n",
            "  y = column_or_1d(y, warn=True)\n",
            "/usr/local/lib/python3.11/dist-packages/sklearn/preprocessing/_label.py:129: DataConversionWarning: A column-vector y was passed when a 1d array was expected. Please change the shape of y to (n_samples, ), for example using ravel().\n",
            "  y = column_or_1d(y, dtype=self.classes_.dtype, warn=True)\n",
            "/usr/local/lib/python3.11/dist-packages/sklearn/preprocessing/_label.py:129: DataConversionWarning: A column-vector y was passed when a 1d array was expected. Please change the shape of y to (n_samples, ), for example using ravel().\n",
            "  y = column_or_1d(y, dtype=self.classes_.dtype, warn=True)\n",
            "/usr/local/lib/python3.11/dist-packages/sklearn/preprocessing/_label.py:129: DataConversionWarning: A column-vector y was passed when a 1d array was expected. Please change the shape of y to (n_samples, ), for example using ravel().\n",
            "  y = column_or_1d(y, dtype=self.classes_.dtype, warn=True)\n",
            "/usr/local/lib/python3.11/dist-packages/sklearn/preprocessing/_label.py:93: DataConversionWarning: A column-vector y was passed when a 1d array was expected. Please change the shape of y to (n_samples, ), for example using ravel().\n",
            "  y = column_or_1d(y, warn=True)\n",
            "/usr/local/lib/python3.11/dist-packages/sklearn/preprocessing/_label.py:129: DataConversionWarning: A column-vector y was passed when a 1d array was expected. Please change the shape of y to (n_samples, ), for example using ravel().\n",
            "  y = column_or_1d(y, dtype=self.classes_.dtype, warn=True)\n",
            "/usr/local/lib/python3.11/dist-packages/sklearn/preprocessing/_label.py:129: DataConversionWarning: A column-vector y was passed when a 1d array was expected. Please change the shape of y to (n_samples, ), for example using ravel().\n",
            "  y = column_or_1d(y, dtype=self.classes_.dtype, warn=True)\n",
            "/usr/local/lib/python3.11/dist-packages/sklearn/preprocessing/_label.py:129: DataConversionWarning: A column-vector y was passed when a 1d array was expected. Please change the shape of y to (n_samples, ), for example using ravel().\n",
            "  y = column_or_1d(y, dtype=self.classes_.dtype, warn=True)\n",
            "/usr/local/lib/python3.11/dist-packages/sklearn/preprocessing/_label.py:93: DataConversionWarning: A column-vector y was passed when a 1d array was expected. Please change the shape of y to (n_samples, ), for example using ravel().\n",
            "  y = column_or_1d(y, warn=True)\n",
            "/usr/local/lib/python3.11/dist-packages/sklearn/preprocessing/_label.py:129: DataConversionWarning: A column-vector y was passed when a 1d array was expected. Please change the shape of y to (n_samples, ), for example using ravel().\n",
            "  y = column_or_1d(y, dtype=self.classes_.dtype, warn=True)\n",
            "/usr/local/lib/python3.11/dist-packages/sklearn/preprocessing/_label.py:129: DataConversionWarning: A column-vector y was passed when a 1d array was expected. Please change the shape of y to (n_samples, ), for example using ravel().\n",
            "  y = column_or_1d(y, dtype=self.classes_.dtype, warn=True)\n",
            "/usr/local/lib/python3.11/dist-packages/sklearn/preprocessing/_label.py:129: DataConversionWarning: A column-vector y was passed when a 1d array was expected. Please change the shape of y to (n_samples, ), for example using ravel().\n",
            "  y = column_or_1d(y, dtype=self.classes_.dtype, warn=True)\n",
            "/usr/local/lib/python3.11/dist-packages/sklearn/preprocessing/_label.py:93: DataConversionWarning: A column-vector y was passed when a 1d array was expected. Please change the shape of y to (n_samples, ), for example using ravel().\n",
            "  y = column_or_1d(y, warn=True)\n",
            "/usr/local/lib/python3.11/dist-packages/sklearn/preprocessing/_label.py:129: DataConversionWarning: A column-vector y was passed when a 1d array was expected. Please change the shape of y to (n_samples, ), for example using ravel().\n",
            "  y = column_or_1d(y, dtype=self.classes_.dtype, warn=True)\n",
            "/usr/local/lib/python3.11/dist-packages/sklearn/preprocessing/_label.py:129: DataConversionWarning: A column-vector y was passed when a 1d array was expected. Please change the shape of y to (n_samples, ), for example using ravel().\n",
            "  y = column_or_1d(y, dtype=self.classes_.dtype, warn=True)\n",
            "/usr/local/lib/python3.11/dist-packages/sklearn/preprocessing/_label.py:129: DataConversionWarning: A column-vector y was passed when a 1d array was expected. Please change the shape of y to (n_samples, ), for example using ravel().\n",
            "  y = column_or_1d(y, dtype=self.classes_.dtype, warn=True)\n",
            "/usr/local/lib/python3.11/dist-packages/sklearn/preprocessing/_label.py:93: DataConversionWarning: A column-vector y was passed when a 1d array was expected. Please change the shape of y to (n_samples, ), for example using ravel().\n",
            "  y = column_or_1d(y, warn=True)\n",
            "/usr/local/lib/python3.11/dist-packages/sklearn/preprocessing/_label.py:129: DataConversionWarning: A column-vector y was passed when a 1d array was expected. Please change the shape of y to (n_samples, ), for example using ravel().\n",
            "  y = column_or_1d(y, dtype=self.classes_.dtype, warn=True)\n",
            "/usr/local/lib/python3.11/dist-packages/sklearn/preprocessing/_label.py:129: DataConversionWarning: A column-vector y was passed when a 1d array was expected. Please change the shape of y to (n_samples, ), for example using ravel().\n",
            "  y = column_or_1d(y, dtype=self.classes_.dtype, warn=True)\n",
            "/usr/local/lib/python3.11/dist-packages/sklearn/preprocessing/_label.py:129: DataConversionWarning: A column-vector y was passed when a 1d array was expected. Please change the shape of y to (n_samples, ), for example using ravel().\n",
            "  y = column_or_1d(y, dtype=self.classes_.dtype, warn=True)\n",
            "/usr/local/lib/python3.11/dist-packages/sklearn/preprocessing/_label.py:93: DataConversionWarning: A column-vector y was passed when a 1d array was expected. Please change the shape of y to (n_samples, ), for example using ravel().\n",
            "  y = column_or_1d(y, warn=True)\n",
            "/usr/local/lib/python3.11/dist-packages/sklearn/preprocessing/_label.py:129: DataConversionWarning: A column-vector y was passed when a 1d array was expected. Please change the shape of y to (n_samples, ), for example using ravel().\n",
            "  y = column_or_1d(y, dtype=self.classes_.dtype, warn=True)\n",
            "/usr/local/lib/python3.11/dist-packages/sklearn/preprocessing/_label.py:129: DataConversionWarning: A column-vector y was passed when a 1d array was expected. Please change the shape of y to (n_samples, ), for example using ravel().\n",
            "  y = column_or_1d(y, dtype=self.classes_.dtype, warn=True)\n",
            "/usr/local/lib/python3.11/dist-packages/sklearn/preprocessing/_label.py:129: DataConversionWarning: A column-vector y was passed when a 1d array was expected. Please change the shape of y to (n_samples, ), for example using ravel().\n",
            "  y = column_or_1d(y, dtype=self.classes_.dtype, warn=True)\n",
            "/usr/local/lib/python3.11/dist-packages/sklearn/preprocessing/_label.py:93: DataConversionWarning: A column-vector y was passed when a 1d array was expected. Please change the shape of y to (n_samples, ), for example using ravel().\n",
            "  y = column_or_1d(y, warn=True)\n",
            "/usr/local/lib/python3.11/dist-packages/sklearn/preprocessing/_label.py:129: DataConversionWarning: A column-vector y was passed when a 1d array was expected. Please change the shape of y to (n_samples, ), for example using ravel().\n",
            "  y = column_or_1d(y, dtype=self.classes_.dtype, warn=True)\n",
            "/usr/local/lib/python3.11/dist-packages/sklearn/preprocessing/_label.py:129: DataConversionWarning: A column-vector y was passed when a 1d array was expected. Please change the shape of y to (n_samples, ), for example using ravel().\n",
            "  y = column_or_1d(y, dtype=self.classes_.dtype, warn=True)\n",
            "/usr/local/lib/python3.11/dist-packages/sklearn/preprocessing/_label.py:129: DataConversionWarning: A column-vector y was passed when a 1d array was expected. Please change the shape of y to (n_samples, ), for example using ravel().\n",
            "  y = column_or_1d(y, dtype=self.classes_.dtype, warn=True)\n",
            "/usr/local/lib/python3.11/dist-packages/sklearn/preprocessing/_label.py:93: DataConversionWarning: A column-vector y was passed when a 1d array was expected. Please change the shape of y to (n_samples, ), for example using ravel().\n",
            "  y = column_or_1d(y, warn=True)\n",
            "/usr/local/lib/python3.11/dist-packages/sklearn/preprocessing/_label.py:129: DataConversionWarning: A column-vector y was passed when a 1d array was expected. Please change the shape of y to (n_samples, ), for example using ravel().\n",
            "  y = column_or_1d(y, dtype=self.classes_.dtype, warn=True)\n",
            "/usr/local/lib/python3.11/dist-packages/sklearn/preprocessing/_label.py:129: DataConversionWarning: A column-vector y was passed when a 1d array was expected. Please change the shape of y to (n_samples, ), for example using ravel().\n",
            "  y = column_or_1d(y, dtype=self.classes_.dtype, warn=True)\n",
            "/usr/local/lib/python3.11/dist-packages/sklearn/preprocessing/_label.py:129: DataConversionWarning: A column-vector y was passed when a 1d array was expected. Please change the shape of y to (n_samples, ), for example using ravel().\n",
            "  y = column_or_1d(y, dtype=self.classes_.dtype, warn=True)\n"
          ]
        }
      ]
    },
    {
      "cell_type": "code",
      "source": [
        "y_pred_test_salary = model.predict(X_test_1, save_path=\"predictions_test.csv\")"
      ],
      "metadata": {
        "colab": {
          "base_uri": "https://localhost:8080/"
        },
        "id": "X-3vzQskgqr7",
        "outputId": "121bf30b-680b-49b7-8d93-39afea81db9f"
      },
      "execution_count": null,
      "outputs": [
        {
          "output_type": "stream",
          "name": "stdout",
          "text": [
            "Предсказания сохранены в predictions_test.csv\n"
          ]
        }
      ]
    },
    {
      "cell_type": "code",
      "source": [
        "y_pred_test_salary"
      ],
      "metadata": {
        "colab": {
          "base_uri": "https://localhost:8080/"
        },
        "id": "9LNogFbHqDZ_",
        "outputId": "ca52cb8c-d70b-4aab-e542-a4e9619a29c2"
      },
      "execution_count": null,
      "outputs": [
        {
          "output_type": "execute_result",
          "data": {
            "text/plain": [
              "array([[203757.32595426],\n",
              "       [ 59941.26629728],\n",
              "       [ 72068.83990139],\n",
              "       ...,\n",
              "       [113695.78000342],\n",
              "       [166812.51118443],\n",
              "       [ 94687.94439403]])"
            ]
          },
          "metadata": {},
          "execution_count": 33
        }
      ]
    }
  ]
}